{
 "cells": [
  {
   "cell_type": "markdown",
   "metadata": {
    "colab_type": "text",
    "id": "v8coxuLJa_LE"
   },
   "source": [
    "# <font color=\"green\"> 1. Introduction</font>"
   ]
  },
  {
   "cell_type": "markdown",
   "metadata": {
    "colab_type": "text",
    "id": "9ZMHo6Lla_LH"
   },
   "source": [
    "The research problem is to figure out how we can predict which individuals are most likely to have or use a bank account. Your solution will help provide an indication of the state of financial inclusion in Kenya, Rwanda, Tanzania, and Uganda, while providing insights into some of the key demographic factors that might drive individuals’ financial outcomes.\n",
    "\n",
    "In order to work on the above problem, you need to do the following:\n",
    "    1. Define the question, the metric for success, the context, experimental design taken and the                    appropriateness of the available data to answer the given question\n",
    "    2. Find and deal with outliers, anomalies, and missing data within the dataset.\n",
    "    3. Perform univariate, bivariate and multivariate analysis recording your observations.\n",
    "    4. Implement the solution by performing the respective analysis i.e. factor analysis, principal component          analysis, and discriminant analysis.\n",
    "    5. Challenge your solution by providing insights on how you can make improvements."
   ]
  },
  {
   "cell_type": "markdown",
   "metadata": {
    "colab_type": "text",
    "id": "eNXRPjnJa_LI"
   },
   "source": [
    "#### <font color='blue'> 1.1 Research Question </font>"
   ]
  },
  {
   "cell_type": "markdown",
   "metadata": {
    "colab_type": "text",
    "id": "j-KoYrG9a_LK"
   },
   "source": [
    "What factors (e.g. cell phone access, location, age, gender, job type, education level, relationship with head of household, marital status) influence whether or not an individual has or uses a bank account?"
   ]
  },
  {
   "cell_type": "markdown",
   "metadata": {
    "colab_type": "text",
    "id": "JveU4VDma_LL"
   },
   "source": [
    "#### <font color='blue'> 1.2 Metric for Success </font>"
   ]
  },
  {
   "cell_type": "markdown",
   "metadata": {
    "colab_type": "text",
    "id": "em-jtvWWa_LM"
   },
   "source": [
    "The analysis and conclusion will be successfully conducted when we are able to find out the factors that influence whether or not one has or uses a bank account, and provide suggestions on how to increase financial inclusion."
   ]
  },
  {
   "cell_type": "markdown",
   "metadata": {
    "colab_type": "text",
    "id": "YbFuEDbQa_LN"
   },
   "source": [
    "#### <font color='blue'> 1.3 Context </font>"
   ]
  },
  {
   "cell_type": "markdown",
   "metadata": {
    "colab_type": "text",
    "id": "2M1GrhxGa_LO"
   },
   "source": [
    "Financial Inclusion remains one of the main obstacles to economic and human development in Africa. For example, across Kenya, Rwanda, Tanzania, and Uganda only 9.1 million adults (or 13.9% of the adult population) have access to or use a commercial bank account.\n",
    "\n",
    "Traditionally, access to bank accounts has been regarded as an indicator of financial inclusion. Despite the proliferation of mobile money in Africa and the growth of innovative fintech solutions, banks still play a pivotal role in facilitating access to financial services. Access to bank accounts enables households to save and facilitate payments while also helping businesses build up their credit-worthiness and improve their access to other financial services. Therefore, access to bank accounts is an essential contributor to long-term economic growth."
   ]
  },
  {
   "cell_type": "markdown",
   "metadata": {
    "colab_type": "text",
    "id": "JVyjR1Sca_LP"
   },
   "source": [
    "#### <font color='blue'> 1.4 Experimental Design </font>"
   ]
  },
  {
   "cell_type": "markdown",
   "metadata": {
    "colab_type": "text",
    "id": "0yLkYgBya_LQ"
   },
   "source": []
  },
  {
   "cell_type": "markdown",
   "metadata": {
    "colab_type": "text",
    "id": "v4gUYwiya_LR"
   },
   "source": [
    "#### <font color='blue'> 1.5 Appropriateness of Data </font>"
   ]
  },
  {
   "cell_type": "markdown",
   "metadata": {
    "colab_type": "text",
    "id": "TYXF_H4Wa_LT"
   },
   "source": []
  },
  {
   "cell_type": "markdown",
   "metadata": {
    "colab_type": "text",
    "id": "GFbrdCm8a_LU"
   },
   "source": [
    "# <font color='green'> 2. Data Preparation </font>"
   ]
  },
  {
   "cell_type": "markdown",
   "metadata": {
    "colab_type": "text",
    "id": "fnOJvNhSa_LV"
   },
   "source": [
    "#### <font color='blue'> 2.1 Load Python libraries and the dataset </font>"
   ]
  },
  {
   "cell_type": "code",
   "execution_count": 1,
   "metadata": {
    "colab": {},
    "colab_type": "code",
    "id": "VUxf9glYa_LW"
   },
   "outputs": [],
   "source": [
    "import pandas as pd\n",
    "import numpy as np\n",
    "import matplotlib.pyplot as plt\n",
    "import seaborn as sns"
   ]
  },
  {
   "cell_type": "code",
   "execution_count": 2,
   "metadata": {
    "colab": {
     "base_uri": "https://localhost:8080/",
     "height": 421
    },
    "colab_type": "code",
    "id": "yLscpTcma_La",
    "outputId": "f754f438-8ccd-4eb7-ba25-a1ed83600124"
   },
   "outputs": [
    {
     "data": {
      "text/html": [
       "<div>\n",
       "<style scoped>\n",
       "    .dataframe tbody tr th:only-of-type {\n",
       "        vertical-align: middle;\n",
       "    }\n",
       "\n",
       "    .dataframe tbody tr th {\n",
       "        vertical-align: top;\n",
       "    }\n",
       "\n",
       "    .dataframe thead th {\n",
       "        text-align: right;\n",
       "    }\n",
       "</style>\n",
       "<table border=\"1\" class=\"dataframe\">\n",
       "  <thead>\n",
       "    <tr style=\"text-align: right;\">\n",
       "      <th></th>\n",
       "      <th>Variable Definitions</th>\n",
       "      <th>Unnamed: 1</th>\n",
       "    </tr>\n",
       "  </thead>\n",
       "  <tbody>\n",
       "    <tr>\n",
       "      <th>0</th>\n",
       "      <td>country</td>\n",
       "      <td>Country interviewee is in.</td>\n",
       "    </tr>\n",
       "    <tr>\n",
       "      <th>1</th>\n",
       "      <td>year</td>\n",
       "      <td>Year survey was done in.</td>\n",
       "    </tr>\n",
       "    <tr>\n",
       "      <th>2</th>\n",
       "      <td>uniqueid</td>\n",
       "      <td>Unique identifier for each interviewee</td>\n",
       "    </tr>\n",
       "    <tr>\n",
       "      <th>3</th>\n",
       "      <td>location_type</td>\n",
       "      <td>Type of location: Rural, Urban</td>\n",
       "    </tr>\n",
       "    <tr>\n",
       "      <th>4</th>\n",
       "      <td>cellphone_access</td>\n",
       "      <td>If interviewee has access to a cellphone: Yes, No</td>\n",
       "    </tr>\n",
       "    <tr>\n",
       "      <th>5</th>\n",
       "      <td>household_size</td>\n",
       "      <td>Number of people living in one house</td>\n",
       "    </tr>\n",
       "    <tr>\n",
       "      <th>6</th>\n",
       "      <td>age_of_respondent</td>\n",
       "      <td>The age of the interviewee</td>\n",
       "    </tr>\n",
       "    <tr>\n",
       "      <th>7</th>\n",
       "      <td>gender_of_respondent</td>\n",
       "      <td>Gender of interviewee: Male, Female</td>\n",
       "    </tr>\n",
       "    <tr>\n",
       "      <th>8</th>\n",
       "      <td>relationship_with_head</td>\n",
       "      <td>The interviewee’s relationship with the head o...</td>\n",
       "    </tr>\n",
       "    <tr>\n",
       "      <th>9</th>\n",
       "      <td>marital_status</td>\n",
       "      <td>The martial status of the interviewee: Married...</td>\n",
       "    </tr>\n",
       "    <tr>\n",
       "      <th>10</th>\n",
       "      <td>education_level</td>\n",
       "      <td>Highest level of education: No formal educatio...</td>\n",
       "    </tr>\n",
       "    <tr>\n",
       "      <th>11</th>\n",
       "      <td>job_type</td>\n",
       "      <td>Type of job interviewee has: Farming and Fishi...</td>\n",
       "    </tr>\n",
       "  </tbody>\n",
       "</table>\n",
       "</div>"
      ],
      "text/plain": [
       "      Variable Definitions                                         Unnamed: 1\n",
       "0                  country                         Country interviewee is in.\n",
       "1                     year                           Year survey was done in.\n",
       "2                 uniqueid             Unique identifier for each interviewee\n",
       "3            location_type                     Type of location: Rural, Urban\n",
       "4         cellphone_access  If interviewee has access to a cellphone: Yes, No\n",
       "5           household_size               Number of people living in one house\n",
       "6        age_of_respondent                         The age of the interviewee\n",
       "7     gender_of_respondent                Gender of interviewee: Male, Female\n",
       "8   relationship_with_head  The interviewee’s relationship with the head o...\n",
       "9           marital_status  The martial status of the interviewee: Married...\n",
       "10         education_level  Highest level of education: No formal educatio...\n",
       "11                job_type  Type of job interviewee has: Farming and Fishi..."
      ]
     },
     "execution_count": 2,
     "metadata": {},
     "output_type": "execute_result"
    }
   ],
   "source": [
    "#provide the variable definitions\n",
    "varDef = pd.read_csv('VariableDefinitions (1).csv')\n",
    "varDef"
   ]
  },
  {
   "cell_type": "code",
   "execution_count": 3,
   "metadata": {
    "colab": {
     "base_uri": "https://localhost:8080/",
     "height": 377
    },
    "colab_type": "code",
    "id": "iBPJhmQfa_Lf",
    "outputId": "8ff1a200-8a56-41b8-d7a3-8dc2e8f41210"
   },
   "outputs": [
    {
     "data": {
      "text/html": [
       "<div>\n",
       "<style scoped>\n",
       "    .dataframe tbody tr th:only-of-type {\n",
       "        vertical-align: middle;\n",
       "    }\n",
       "\n",
       "    .dataframe tbody tr th {\n",
       "        vertical-align: top;\n",
       "    }\n",
       "\n",
       "    .dataframe thead th {\n",
       "        text-align: right;\n",
       "    }\n",
       "</style>\n",
       "<table border=\"1\" class=\"dataframe\">\n",
       "  <thead>\n",
       "    <tr style=\"text-align: right;\">\n",
       "      <th></th>\n",
       "      <th>country</th>\n",
       "      <th>year</th>\n",
       "      <th>uniqueid</th>\n",
       "      <th>Has a Bank account</th>\n",
       "      <th>Type of Location</th>\n",
       "      <th>Cell Phone Access</th>\n",
       "      <th>household_size</th>\n",
       "      <th>Respondent Age</th>\n",
       "      <th>gender_of_respondent</th>\n",
       "      <th>The relathip with head</th>\n",
       "      <th>marital_status</th>\n",
       "      <th>Level of Educuation</th>\n",
       "      <th>Type of Job</th>\n",
       "    </tr>\n",
       "  </thead>\n",
       "  <tbody>\n",
       "    <tr>\n",
       "      <th>0</th>\n",
       "      <td>Kenya</td>\n",
       "      <td>2018</td>\n",
       "      <td>uniqueid_1</td>\n",
       "      <td>Yes</td>\n",
       "      <td>Rural</td>\n",
       "      <td>Yes</td>\n",
       "      <td>3.0</td>\n",
       "      <td>24.0</td>\n",
       "      <td>Female</td>\n",
       "      <td>Spouse</td>\n",
       "      <td>Married/Living together</td>\n",
       "      <td>Secondary education</td>\n",
       "      <td>Self employed</td>\n",
       "    </tr>\n",
       "    <tr>\n",
       "      <th>1</th>\n",
       "      <td>Kenya</td>\n",
       "      <td>2018</td>\n",
       "      <td>uniqueid_2</td>\n",
       "      <td>No</td>\n",
       "      <td>Rural</td>\n",
       "      <td>No</td>\n",
       "      <td>5.0</td>\n",
       "      <td>70.0</td>\n",
       "      <td>Female</td>\n",
       "      <td>Head of Household</td>\n",
       "      <td>Widowed</td>\n",
       "      <td>No formal education</td>\n",
       "      <td>Government Dependent</td>\n",
       "    </tr>\n",
       "    <tr>\n",
       "      <th>2</th>\n",
       "      <td>Kenya</td>\n",
       "      <td>2018</td>\n",
       "      <td>uniqueid_3</td>\n",
       "      <td>Yes</td>\n",
       "      <td>Urban</td>\n",
       "      <td>Yes</td>\n",
       "      <td>5.0</td>\n",
       "      <td>26.0</td>\n",
       "      <td>Male</td>\n",
       "      <td>Other relative</td>\n",
       "      <td>Single/Never Married</td>\n",
       "      <td>Vocational/Specialised training</td>\n",
       "      <td>Self employed</td>\n",
       "    </tr>\n",
       "    <tr>\n",
       "      <th>3</th>\n",
       "      <td>Kenya</td>\n",
       "      <td>2018</td>\n",
       "      <td>uniqueid_4</td>\n",
       "      <td>No</td>\n",
       "      <td>Rural</td>\n",
       "      <td>Yes</td>\n",
       "      <td>5.0</td>\n",
       "      <td>34.0</td>\n",
       "      <td>Female</td>\n",
       "      <td>Head of Household</td>\n",
       "      <td>Married/Living together</td>\n",
       "      <td>Primary education</td>\n",
       "      <td>Formally employed Private</td>\n",
       "    </tr>\n",
       "    <tr>\n",
       "      <th>4</th>\n",
       "      <td>Kenya</td>\n",
       "      <td>2018</td>\n",
       "      <td>uniqueid_5</td>\n",
       "      <td>No</td>\n",
       "      <td>Urban</td>\n",
       "      <td>No</td>\n",
       "      <td>8.0</td>\n",
       "      <td>26.0</td>\n",
       "      <td>Male</td>\n",
       "      <td>Child</td>\n",
       "      <td>Single/Never Married</td>\n",
       "      <td>Primary education</td>\n",
       "      <td>Informally employed</td>\n",
       "    </tr>\n",
       "  </tbody>\n",
       "</table>\n",
       "</div>"
      ],
      "text/plain": [
       "  country  year    uniqueid Has a Bank account Type of Location  \\\n",
       "0   Kenya  2018  uniqueid_1                Yes            Rural   \n",
       "1   Kenya  2018  uniqueid_2                 No            Rural   \n",
       "2   Kenya  2018  uniqueid_3                Yes            Urban   \n",
       "3   Kenya  2018  uniqueid_4                 No            Rural   \n",
       "4   Kenya  2018  uniqueid_5                 No            Urban   \n",
       "\n",
       "  Cell Phone Access  household_size  Respondent Age gender_of_respondent  \\\n",
       "0               Yes             3.0            24.0               Female   \n",
       "1                No             5.0            70.0               Female   \n",
       "2               Yes             5.0            26.0                 Male   \n",
       "3               Yes             5.0            34.0               Female   \n",
       "4                No             8.0            26.0                 Male   \n",
       "\n",
       "  The relathip with head           marital_status  \\\n",
       "0                 Spouse  Married/Living together   \n",
       "1      Head of Household                  Widowed   \n",
       "2         Other relative     Single/Never Married   \n",
       "3      Head of Household  Married/Living together   \n",
       "4                  Child     Single/Never Married   \n",
       "\n",
       "               Level of Educuation                Type of Job  \n",
       "0              Secondary education              Self employed  \n",
       "1              No formal education       Government Dependent  \n",
       "2  Vocational/Specialised training              Self employed  \n",
       "3                Primary education  Formally employed Private  \n",
       "4                Primary education        Informally employed  "
      ]
     },
     "execution_count": 3,
     "metadata": {},
     "output_type": "execute_result"
    }
   ],
   "source": [
    "financial = pd.read_csv('Financial Dataset - 1 (2).csv')\n",
    "financial.head()"
   ]
  },
  {
   "cell_type": "markdown",
   "metadata": {
    "colab_type": "text",
    "id": "lfxw8eZja_Lj"
   },
   "source": [
    "#### <font color='blue'> 2.2 Preview the dataset and gather basic info about it </font>"
   ]
  },
  {
   "cell_type": "code",
   "execution_count": 4,
   "metadata": {
    "colab": {
     "base_uri": "https://localhost:8080/",
     "height": 478
    },
    "colab_type": "code",
    "id": "qYfX1PXia_Lk",
    "outputId": "11356919-7f97-43d0-e22d-4f5379dd33e6"
   },
   "outputs": [
    {
     "data": {
      "text/html": [
       "<div>\n",
       "<style scoped>\n",
       "    .dataframe tbody tr th:only-of-type {\n",
       "        vertical-align: middle;\n",
       "    }\n",
       "\n",
       "    .dataframe tbody tr th {\n",
       "        vertical-align: top;\n",
       "    }\n",
       "\n",
       "    .dataframe thead th {\n",
       "        text-align: right;\n",
       "    }\n",
       "</style>\n",
       "<table border=\"1\" class=\"dataframe\">\n",
       "  <thead>\n",
       "    <tr style=\"text-align: right;\">\n",
       "      <th></th>\n",
       "      <th>country</th>\n",
       "      <th>year</th>\n",
       "      <th>uniqueid</th>\n",
       "      <th>Has a Bank account</th>\n",
       "      <th>Type of Location</th>\n",
       "      <th>Cell Phone Access</th>\n",
       "      <th>household_size</th>\n",
       "      <th>Respondent Age</th>\n",
       "      <th>gender_of_respondent</th>\n",
       "      <th>The relathip with head</th>\n",
       "      <th>marital_status</th>\n",
       "      <th>Level of Educuation</th>\n",
       "      <th>Type of Job</th>\n",
       "    </tr>\n",
       "  </thead>\n",
       "  <tbody>\n",
       "    <tr>\n",
       "      <th>count</th>\n",
       "      <td>23510</td>\n",
       "      <td>23524.000000</td>\n",
       "      <td>23524</td>\n",
       "      <td>23488</td>\n",
       "      <td>23509</td>\n",
       "      <td>23513</td>\n",
       "      <td>23496.000000</td>\n",
       "      <td>23490.000000</td>\n",
       "      <td>23490</td>\n",
       "      <td>23520</td>\n",
       "      <td>23492</td>\n",
       "      <td>23495</td>\n",
       "      <td>23494</td>\n",
       "    </tr>\n",
       "    <tr>\n",
       "      <th>unique</th>\n",
       "      <td>4</td>\n",
       "      <td>NaN</td>\n",
       "      <td>8735</td>\n",
       "      <td>2</td>\n",
       "      <td>2</td>\n",
       "      <td>2</td>\n",
       "      <td>NaN</td>\n",
       "      <td>NaN</td>\n",
       "      <td>2</td>\n",
       "      <td>6</td>\n",
       "      <td>5</td>\n",
       "      <td>7</td>\n",
       "      <td>10</td>\n",
       "    </tr>\n",
       "    <tr>\n",
       "      <th>top</th>\n",
       "      <td>Rwanda</td>\n",
       "      <td>NaN</td>\n",
       "      <td>uniqueid_1046</td>\n",
       "      <td>No</td>\n",
       "      <td>Rural</td>\n",
       "      <td>Yes</td>\n",
       "      <td>NaN</td>\n",
       "      <td>NaN</td>\n",
       "      <td>Female</td>\n",
       "      <td>Head of Household</td>\n",
       "      <td>Married/Living together</td>\n",
       "      <td>Primary education</td>\n",
       "      <td>Self employed</td>\n",
       "    </tr>\n",
       "    <tr>\n",
       "      <th>freq</th>\n",
       "      <td>8735</td>\n",
       "      <td>NaN</td>\n",
       "      <td>4</td>\n",
       "      <td>20179</td>\n",
       "      <td>14338</td>\n",
       "      <td>17449</td>\n",
       "      <td>NaN</td>\n",
       "      <td>NaN</td>\n",
       "      <td>13859</td>\n",
       "      <td>12829</td>\n",
       "      <td>10739</td>\n",
       "      <td>12775</td>\n",
       "      <td>6428</td>\n",
       "    </tr>\n",
       "    <tr>\n",
       "      <th>mean</th>\n",
       "      <td>NaN</td>\n",
       "      <td>2016.979000</td>\n",
       "      <td>NaN</td>\n",
       "      <td>NaN</td>\n",
       "      <td>NaN</td>\n",
       "      <td>NaN</td>\n",
       "      <td>3.681818</td>\n",
       "      <td>38.804300</td>\n",
       "      <td>NaN</td>\n",
       "      <td>NaN</td>\n",
       "      <td>NaN</td>\n",
       "      <td>NaN</td>\n",
       "      <td>NaN</td>\n",
       "    </tr>\n",
       "    <tr>\n",
       "      <th>std</th>\n",
       "      <td>NaN</td>\n",
       "      <td>0.899669</td>\n",
       "      <td>NaN</td>\n",
       "      <td>NaN</td>\n",
       "      <td>NaN</td>\n",
       "      <td>NaN</td>\n",
       "      <td>2.279933</td>\n",
       "      <td>16.519996</td>\n",
       "      <td>NaN</td>\n",
       "      <td>NaN</td>\n",
       "      <td>NaN</td>\n",
       "      <td>NaN</td>\n",
       "      <td>NaN</td>\n",
       "    </tr>\n",
       "    <tr>\n",
       "      <th>min</th>\n",
       "      <td>NaN</td>\n",
       "      <td>2016.000000</td>\n",
       "      <td>NaN</td>\n",
       "      <td>NaN</td>\n",
       "      <td>NaN</td>\n",
       "      <td>NaN</td>\n",
       "      <td>0.000000</td>\n",
       "      <td>16.000000</td>\n",
       "      <td>NaN</td>\n",
       "      <td>NaN</td>\n",
       "      <td>NaN</td>\n",
       "      <td>NaN</td>\n",
       "      <td>NaN</td>\n",
       "    </tr>\n",
       "    <tr>\n",
       "      <th>25%</th>\n",
       "      <td>NaN</td>\n",
       "      <td>2016.000000</td>\n",
       "      <td>NaN</td>\n",
       "      <td>NaN</td>\n",
       "      <td>NaN</td>\n",
       "      <td>NaN</td>\n",
       "      <td>2.000000</td>\n",
       "      <td>26.000000</td>\n",
       "      <td>NaN</td>\n",
       "      <td>NaN</td>\n",
       "      <td>NaN</td>\n",
       "      <td>NaN</td>\n",
       "      <td>NaN</td>\n",
       "    </tr>\n",
       "    <tr>\n",
       "      <th>50%</th>\n",
       "      <td>NaN</td>\n",
       "      <td>2017.000000</td>\n",
       "      <td>NaN</td>\n",
       "      <td>NaN</td>\n",
       "      <td>NaN</td>\n",
       "      <td>NaN</td>\n",
       "      <td>3.000000</td>\n",
       "      <td>35.000000</td>\n",
       "      <td>NaN</td>\n",
       "      <td>NaN</td>\n",
       "      <td>NaN</td>\n",
       "      <td>NaN</td>\n",
       "      <td>NaN</td>\n",
       "    </tr>\n",
       "    <tr>\n",
       "      <th>75%</th>\n",
       "      <td>NaN</td>\n",
       "      <td>2018.000000</td>\n",
       "      <td>NaN</td>\n",
       "      <td>NaN</td>\n",
       "      <td>NaN</td>\n",
       "      <td>NaN</td>\n",
       "      <td>5.000000</td>\n",
       "      <td>49.000000</td>\n",
       "      <td>NaN</td>\n",
       "      <td>NaN</td>\n",
       "      <td>NaN</td>\n",
       "      <td>NaN</td>\n",
       "      <td>NaN</td>\n",
       "    </tr>\n",
       "    <tr>\n",
       "      <th>max</th>\n",
       "      <td>NaN</td>\n",
       "      <td>2056.000000</td>\n",
       "      <td>NaN</td>\n",
       "      <td>NaN</td>\n",
       "      <td>NaN</td>\n",
       "      <td>NaN</td>\n",
       "      <td>21.000000</td>\n",
       "      <td>100.000000</td>\n",
       "      <td>NaN</td>\n",
       "      <td>NaN</td>\n",
       "      <td>NaN</td>\n",
       "      <td>NaN</td>\n",
       "      <td>NaN</td>\n",
       "    </tr>\n",
       "  </tbody>\n",
       "</table>\n",
       "</div>"
      ],
      "text/plain": [
       "       country          year       uniqueid Has a Bank account  \\\n",
       "count    23510  23524.000000          23524              23488   \n",
       "unique       4           NaN           8735                  2   \n",
       "top     Rwanda           NaN  uniqueid_1046                 No   \n",
       "freq      8735           NaN              4              20179   \n",
       "mean       NaN   2016.979000            NaN                NaN   \n",
       "std        NaN      0.899669            NaN                NaN   \n",
       "min        NaN   2016.000000            NaN                NaN   \n",
       "25%        NaN   2016.000000            NaN                NaN   \n",
       "50%        NaN   2017.000000            NaN                NaN   \n",
       "75%        NaN   2018.000000            NaN                NaN   \n",
       "max        NaN   2056.000000            NaN                NaN   \n",
       "\n",
       "       Type of Location Cell Phone Access  household_size  Respondent Age  \\\n",
       "count             23509             23513    23496.000000    23490.000000   \n",
       "unique                2                 2             NaN             NaN   \n",
       "top               Rural               Yes             NaN             NaN   \n",
       "freq              14338             17449             NaN             NaN   \n",
       "mean                NaN               NaN        3.681818       38.804300   \n",
       "std                 NaN               NaN        2.279933       16.519996   \n",
       "min                 NaN               NaN        0.000000       16.000000   \n",
       "25%                 NaN               NaN        2.000000       26.000000   \n",
       "50%                 NaN               NaN        3.000000       35.000000   \n",
       "75%                 NaN               NaN        5.000000       49.000000   \n",
       "max                 NaN               NaN       21.000000      100.000000   \n",
       "\n",
       "       gender_of_respondent The relathip with head           marital_status  \\\n",
       "count                 23490                  23520                    23492   \n",
       "unique                    2                      6                        5   \n",
       "top                  Female      Head of Household  Married/Living together   \n",
       "freq                  13859                  12829                    10739   \n",
       "mean                    NaN                    NaN                      NaN   \n",
       "std                     NaN                    NaN                      NaN   \n",
       "min                     NaN                    NaN                      NaN   \n",
       "25%                     NaN                    NaN                      NaN   \n",
       "50%                     NaN                    NaN                      NaN   \n",
       "75%                     NaN                    NaN                      NaN   \n",
       "max                     NaN                    NaN                      NaN   \n",
       "\n",
       "       Level of Educuation    Type of Job  \n",
       "count                23495          23494  \n",
       "unique                   7             10  \n",
       "top      Primary education  Self employed  \n",
       "freq                 12775           6428  \n",
       "mean                   NaN            NaN  \n",
       "std                    NaN            NaN  \n",
       "min                    NaN            NaN  \n",
       "25%                    NaN            NaN  \n",
       "50%                    NaN            NaN  \n",
       "75%                    NaN            NaN  \n",
       "max                    NaN            NaN  "
      ]
     },
     "execution_count": 4,
     "metadata": {},
     "output_type": "execute_result"
    }
   ],
   "source": [
    "# provide summary statistics\n",
    "financial.describe(include='all')"
   ]
  },
  {
   "cell_type": "code",
   "execution_count": 5,
   "metadata": {
    "colab": {
     "base_uri": "https://localhost:8080/",
     "height": 255
    },
    "colab_type": "code",
    "id": "MOH9RL-ra_Lo",
    "outputId": "a3011c4c-1c36-41b7-db25-07170d1a3790"
   },
   "outputs": [
    {
     "data": {
      "text/plain": [
       "country                    object\n",
       "year                        int64\n",
       "uniqueid                   object\n",
       "Has a Bank account         object\n",
       "Type of Location           object\n",
       "Cell Phone Access          object\n",
       "household_size            float64\n",
       "Respondent Age            float64\n",
       "gender_of_respondent       object\n",
       "The relathip with head     object\n",
       "marital_status             object\n",
       "Level of Educuation        object\n",
       "Type of Job                object\n",
       "dtype: object"
      ]
     },
     "execution_count": 5,
     "metadata": {},
     "output_type": "execute_result"
    }
   ],
   "source": [
    "# check that the columns have their corresponding data types\n",
    "financial.dtypes"
   ]
  },
  {
   "cell_type": "code",
   "execution_count": 6,
   "metadata": {
    "colab": {
     "base_uri": "https://localhost:8080/",
     "height": 34
    },
    "colab_type": "code",
    "id": "WyXusW1Ia_Ls",
    "outputId": "f44d9dd7-7d37-4789-9761-77e1bf1c459c"
   },
   "outputs": [
    {
     "data": {
      "text/plain": [
       "(23524, 13)"
      ]
     },
     "execution_count": 6,
     "metadata": {},
     "output_type": "execute_result"
    }
   ],
   "source": [
    "# check the shape of the dataset\n",
    "financial.shape\n",
    "\n",
    "## 23,524 rows/records and 13 columns"
   ]
  },
  {
   "cell_type": "code",
   "execution_count": 7,
   "metadata": {
    "colab": {
     "base_uri": "https://localhost:8080/",
     "height": 255
    },
    "colab_type": "code",
    "id": "ay-HDGBoa_Lv",
    "outputId": "a37c9f45-dcd0-4904-8ca5-17d24292ab05"
   },
   "outputs": [
    {
     "data": {
      "text/plain": [
       "country                   23510\n",
       "year                      23524\n",
       "uniqueid                  23524\n",
       "Has a Bank account        23488\n",
       "Type of Location          23509\n",
       "Cell Phone Access         23513\n",
       "household_size            23496\n",
       "Respondent Age            23490\n",
       "gender_of_respondent      23490\n",
       "The relathip with head    23520\n",
       "marital_status            23492\n",
       "Level of Educuation       23495\n",
       "Type of Job               23494\n",
       "dtype: int64"
      ]
     },
     "execution_count": 7,
     "metadata": {},
     "output_type": "execute_result"
    }
   ],
   "source": [
    "# count the number of non-missing values in each column\n",
    "financial.count()"
   ]
  },
  {
   "cell_type": "markdown",
   "metadata": {
    "colab_type": "text",
    "id": "kjKaOJpga_Lz"
   },
   "source": [
    "# <font color='green'> 3. Data Cleaning </font>"
   ]
  },
  {
   "cell_type": "markdown",
   "metadata": {
    "colab_type": "text",
    "id": "Qq8WxS1Ba_L0"
   },
   "source": [
    "#### <font color='blue'> 3.1 Columns </font>"
   ]
  },
  {
   "cell_type": "code",
   "execution_count": 8,
   "metadata": {
    "colab": {
     "base_uri": "https://localhost:8080/",
     "height": 102
    },
    "colab_type": "code",
    "id": "g3l9r_Pza_L1",
    "outputId": "f5e67f01-665b-431b-dac9-25128cb8c1c6",
    "scrolled": true
   },
   "outputs": [
    {
     "data": {
      "text/plain": [
       "Index(['country', 'year', 'unique_id', 'bank_account', 'location_type',\n",
       "       'cell_phone_access', 'household_size', 'respondent_age',\n",
       "       'respondent_gender', 'rship_w_head', 'marital_status',\n",
       "       'education_level', 'job_type'],\n",
       "      dtype='object')"
      ]
     },
     "execution_count": 8,
     "metadata": {},
     "output_type": "execute_result"
    }
   ],
   "source": [
    "# rename columns to improve consistency\n",
    "financial = financial.rename(columns = {\n",
    "    'uniqueid' : 'unique_id',\n",
    "    'Has a Bank account' : 'bank_account',\n",
    "    'Type of Location' : 'location_type',\n",
    "    'Cell Phone Access' : 'cell_phone_access',\n",
    "    'Respondent Age' : 'respondent_age',\n",
    "    'gender_of_respondent' : 'respondent_gender',\n",
    "    'The relathip with head' : 'rship_w_head',\n",
    "    'Level of Educuation' : 'education_level',\n",
    "    'Type of Job' : 'job_type'\n",
    "})\n",
    "\n",
    "financial.columns"
   ]
  },
  {
   "cell_type": "code",
   "execution_count": 9,
   "metadata": {
    "colab": {},
    "colab_type": "code",
    "id": "bGPUb0PBa_L5"
   },
   "outputs": [],
   "source": [
    "# save this dataset so as to use it as a checkpoint in case of irreversible errors\n",
    "financial.to_csv('financial_dataset.csv', index=False)"
   ]
  },
  {
   "cell_type": "code",
   "execution_count": 10,
   "metadata": {
    "colab": {},
    "colab_type": "code",
    "id": "2PLr5ya1a_L8",
    "scrolled": true
   },
   "outputs": [],
   "source": [
    "# uncomment the below code to reload dataset to last saved checkpoint when needed\n",
    "\n",
    "#financial = pd.read_csv('financial_dataset.csv')\n",
    "#financial.head()"
   ]
  },
  {
   "cell_type": "markdown",
   "metadata": {
    "colab_type": "text",
    "id": "1o6uOsKha_MA"
   },
   "source": [
    "#### <font color='blue'> 3.2 Duplicates </font>"
   ]
  },
  {
   "cell_type": "code",
   "execution_count": 11,
   "metadata": {
    "colab": {
     "base_uri": "https://localhost:8080/",
     "height": 69
    },
    "colab_type": "code",
    "id": "aW6Q9wR5a_MB",
    "outputId": "4cd22a32-3f20-4482-c391-cd12f3c00750"
   },
   "outputs": [
    {
     "data": {
      "text/html": [
       "<div>\n",
       "<style scoped>\n",
       "    .dataframe tbody tr th:only-of-type {\n",
       "        vertical-align: middle;\n",
       "    }\n",
       "\n",
       "    .dataframe tbody tr th {\n",
       "        vertical-align: top;\n",
       "    }\n",
       "\n",
       "    .dataframe thead th {\n",
       "        text-align: right;\n",
       "    }\n",
       "</style>\n",
       "<table border=\"1\" class=\"dataframe\">\n",
       "  <thead>\n",
       "    <tr style=\"text-align: right;\">\n",
       "      <th></th>\n",
       "      <th>country</th>\n",
       "      <th>year</th>\n",
       "      <th>unique_id</th>\n",
       "      <th>bank_account</th>\n",
       "      <th>location_type</th>\n",
       "      <th>cell_phone_access</th>\n",
       "      <th>household_size</th>\n",
       "      <th>respondent_age</th>\n",
       "      <th>respondent_gender</th>\n",
       "      <th>rship_w_head</th>\n",
       "      <th>marital_status</th>\n",
       "      <th>education_level</th>\n",
       "      <th>job_type</th>\n",
       "    </tr>\n",
       "  </thead>\n",
       "  <tbody>\n",
       "  </tbody>\n",
       "</table>\n",
       "</div>"
      ],
      "text/plain": [
       "Empty DataFrame\n",
       "Columns: [country, year, unique_id, bank_account, location_type, cell_phone_access, household_size, respondent_age, respondent_gender, rship_w_head, marital_status, education_level, job_type]\n",
       "Index: []"
      ]
     },
     "execution_count": 11,
     "metadata": {},
     "output_type": "execute_result"
    }
   ],
   "source": [
    "# check for and display duplicates\n",
    "duplicatedData = financial[financial.duplicated()]\n",
    "duplicatedData\n",
    "\n",
    "## no duplicated data found"
   ]
  },
  {
   "cell_type": "markdown",
   "metadata": {
    "colab_type": "text",
    "id": "MSjAds-3a_MF"
   },
   "source": [
    "#### <font color='blue'> 3.3 Null values </font>"
   ]
  },
  {
   "cell_type": "code",
   "execution_count": 12,
   "metadata": {
    "colab": {
     "base_uri": "https://localhost:8080/",
     "height": 34
    },
    "colab_type": "code",
    "id": "Ijkt4fyFa_MG",
    "outputId": "0ab31ae2-a202-4f1f-c0f4-f245ebeb0ae0"
   },
   "outputs": [
    {
     "data": {
      "text/plain": [
       "267"
      ]
     },
     "execution_count": 12,
     "metadata": {},
     "output_type": "execute_result"
    }
   ],
   "source": [
    "# total number of missing values\n",
    "np.count_nonzero(financial.isna())\n",
    "\n",
    "## we have 267 missing values"
   ]
  },
  {
   "cell_type": "code",
   "execution_count": 13,
   "metadata": {
    "colab": {
     "base_uri": "https://localhost:8080/",
     "height": 255
    },
    "colab_type": "code",
    "id": "JM5dN-UPa_MJ",
    "outputId": "1cb0e648-1b81-4669-8e4b-99c014e143df"
   },
   "outputs": [
    {
     "data": {
      "text/plain": [
       "country              14\n",
       "year                  0\n",
       "unique_id             0\n",
       "bank_account         36\n",
       "location_type        15\n",
       "cell_phone_access    11\n",
       "household_size       28\n",
       "respondent_age       34\n",
       "respondent_gender    34\n",
       "rship_w_head          4\n",
       "marital_status       32\n",
       "education_level      29\n",
       "job_type             30\n",
       "dtype: int64"
      ]
     },
     "execution_count": 13,
     "metadata": {},
     "output_type": "execute_result"
    }
   ],
   "source": [
    "# look for where exactly the missing values are\n",
    "financial.isna().sum()"
   ]
  },
  {
   "cell_type": "markdown",
   "metadata": {
    "colab_type": "text",
    "id": "eJDgBk6Ma_MN"
   },
   "source": [
    "##### 3.3.1 Handling null values in 'country' column"
   ]
  },
  {
   "cell_type": "code",
   "execution_count": 14,
   "metadata": {
    "colab": {
     "base_uri": "https://localhost:8080/",
     "height": 758
    },
    "colab_type": "code",
    "id": "bKd8WYBBa_MO",
    "outputId": "defa50ed-db2e-46b8-d633-2cf672994a6e",
    "scrolled": true
   },
   "outputs": [
    {
     "name": "stdout",
     "output_type": "stream",
     "text": [
      "14 missing values\n"
     ]
    },
    {
     "data": {
      "text/html": [
       "<div>\n",
       "<style scoped>\n",
       "    .dataframe tbody tr th:only-of-type {\n",
       "        vertical-align: middle;\n",
       "    }\n",
       "\n",
       "    .dataframe tbody tr th {\n",
       "        vertical-align: top;\n",
       "    }\n",
       "\n",
       "    .dataframe thead th {\n",
       "        text-align: right;\n",
       "    }\n",
       "</style>\n",
       "<table border=\"1\" class=\"dataframe\">\n",
       "  <thead>\n",
       "    <tr style=\"text-align: right;\">\n",
       "      <th></th>\n",
       "      <th>country</th>\n",
       "      <th>year</th>\n",
       "      <th>unique_id</th>\n",
       "      <th>bank_account</th>\n",
       "      <th>location_type</th>\n",
       "      <th>cell_phone_access</th>\n",
       "      <th>household_size</th>\n",
       "      <th>respondent_age</th>\n",
       "      <th>respondent_gender</th>\n",
       "      <th>rship_w_head</th>\n",
       "      <th>marital_status</th>\n",
       "      <th>education_level</th>\n",
       "      <th>job_type</th>\n",
       "    </tr>\n",
       "  </thead>\n",
       "  <tbody>\n",
       "    <tr>\n",
       "      <th>18200</th>\n",
       "      <td>NaN</td>\n",
       "      <td>2017</td>\n",
       "      <td>uniqueid_3398</td>\n",
       "      <td>No</td>\n",
       "      <td>Urban</td>\n",
       "      <td>Yes</td>\n",
       "      <td>1.0</td>\n",
       "      <td>25.0</td>\n",
       "      <td>Female</td>\n",
       "      <td>Spouse</td>\n",
       "      <td>Single/Never Married</td>\n",
       "      <td>Primary education</td>\n",
       "      <td>Remittance Dependent</td>\n",
       "    </tr>\n",
       "    <tr>\n",
       "      <th>18201</th>\n",
       "      <td>NaN</td>\n",
       "      <td>2017</td>\n",
       "      <td>uniqueid_3399</td>\n",
       "      <td>No</td>\n",
       "      <td>Urban</td>\n",
       "      <td>No</td>\n",
       "      <td>1.0</td>\n",
       "      <td>60.0</td>\n",
       "      <td>Female</td>\n",
       "      <td>Head of Household</td>\n",
       "      <td>Widowed</td>\n",
       "      <td>Primary education</td>\n",
       "      <td>Self employed</td>\n",
       "    </tr>\n",
       "    <tr>\n",
       "      <th>18202</th>\n",
       "      <td>NaN</td>\n",
       "      <td>2017</td>\n",
       "      <td>uniqueid_3400</td>\n",
       "      <td>No</td>\n",
       "      <td>Urban</td>\n",
       "      <td>Yes</td>\n",
       "      <td>1.0</td>\n",
       "      <td>19.0</td>\n",
       "      <td>Female</td>\n",
       "      <td>Spouse</td>\n",
       "      <td>Single/Never Married</td>\n",
       "      <td>Primary education</td>\n",
       "      <td>No Income</td>\n",
       "    </tr>\n",
       "    <tr>\n",
       "      <th>18203</th>\n",
       "      <td>NaN</td>\n",
       "      <td>2017</td>\n",
       "      <td>uniqueid_3401</td>\n",
       "      <td>No</td>\n",
       "      <td>Urban</td>\n",
       "      <td>No</td>\n",
       "      <td>1.0</td>\n",
       "      <td>62.0</td>\n",
       "      <td>Female</td>\n",
       "      <td>Head of Household</td>\n",
       "      <td>Widowed</td>\n",
       "      <td>No formal education</td>\n",
       "      <td>Self employed</td>\n",
       "    </tr>\n",
       "    <tr>\n",
       "      <th>18204</th>\n",
       "      <td>NaN</td>\n",
       "      <td>2017</td>\n",
       "      <td>uniqueid_3402</td>\n",
       "      <td>No</td>\n",
       "      <td>Urban</td>\n",
       "      <td>No</td>\n",
       "      <td>2.0</td>\n",
       "      <td>42.0</td>\n",
       "      <td>Female</td>\n",
       "      <td>Head of Household</td>\n",
       "      <td>Widowed</td>\n",
       "      <td>No formal education</td>\n",
       "      <td>Self employed</td>\n",
       "    </tr>\n",
       "    <tr>\n",
       "      <th>18205</th>\n",
       "      <td>NaN</td>\n",
       "      <td>2017</td>\n",
       "      <td>uniqueid_3403</td>\n",
       "      <td>No</td>\n",
       "      <td>Rural</td>\n",
       "      <td>No</td>\n",
       "      <td>3.0</td>\n",
       "      <td>18.0</td>\n",
       "      <td>Male</td>\n",
       "      <td>Child</td>\n",
       "      <td>Divorced/Seperated</td>\n",
       "      <td>Secondary education</td>\n",
       "      <td>Remittance Dependent</td>\n",
       "    </tr>\n",
       "    <tr>\n",
       "      <th>18206</th>\n",
       "      <td>NaN</td>\n",
       "      <td>2017</td>\n",
       "      <td>uniqueid_3404</td>\n",
       "      <td>No</td>\n",
       "      <td>Urban</td>\n",
       "      <td>Yes</td>\n",
       "      <td>2.0</td>\n",
       "      <td>73.0</td>\n",
       "      <td>Female</td>\n",
       "      <td>Head of Household</td>\n",
       "      <td>Married/Living together</td>\n",
       "      <td>No formal education</td>\n",
       "      <td>Self employed</td>\n",
       "    </tr>\n",
       "    <tr>\n",
       "      <th>18207</th>\n",
       "      <td>NaN</td>\n",
       "      <td>2017</td>\n",
       "      <td>uniqueid_3405</td>\n",
       "      <td>No</td>\n",
       "      <td>Urban</td>\n",
       "      <td>No</td>\n",
       "      <td>1.0</td>\n",
       "      <td>40.0</td>\n",
       "      <td>Male</td>\n",
       "      <td>Head of Household</td>\n",
       "      <td>Widowed</td>\n",
       "      <td>No formal education</td>\n",
       "      <td>Self employed</td>\n",
       "    </tr>\n",
       "    <tr>\n",
       "      <th>18208</th>\n",
       "      <td>NaN</td>\n",
       "      <td>2017</td>\n",
       "      <td>uniqueid_3406</td>\n",
       "      <td>No</td>\n",
       "      <td>Urban</td>\n",
       "      <td>No</td>\n",
       "      <td>3.0</td>\n",
       "      <td>28.0</td>\n",
       "      <td>Male</td>\n",
       "      <td>Parent</td>\n",
       "      <td>Married/Living together</td>\n",
       "      <td>No formal education</td>\n",
       "      <td>Self employed</td>\n",
       "    </tr>\n",
       "    <tr>\n",
       "      <th>18312</th>\n",
       "      <td>NaN</td>\n",
       "      <td>2017</td>\n",
       "      <td>uniqueid_3510</td>\n",
       "      <td>No</td>\n",
       "      <td>Urban</td>\n",
       "      <td>No</td>\n",
       "      <td>2.0</td>\n",
       "      <td>19.0</td>\n",
       "      <td>Male</td>\n",
       "      <td>Parent</td>\n",
       "      <td>Divorced/Seperated</td>\n",
       "      <td>Secondary education</td>\n",
       "      <td>No Income</td>\n",
       "    </tr>\n",
       "    <tr>\n",
       "      <th>18313</th>\n",
       "      <td>NaN</td>\n",
       "      <td>2017</td>\n",
       "      <td>uniqueid_3511</td>\n",
       "      <td>No</td>\n",
       "      <td>Urban</td>\n",
       "      <td>Yes</td>\n",
       "      <td>2.0</td>\n",
       "      <td>20.0</td>\n",
       "      <td>Female</td>\n",
       "      <td>Other relative</td>\n",
       "      <td>Divorced/Seperated</td>\n",
       "      <td>No formal education</td>\n",
       "      <td>Informally employed</td>\n",
       "    </tr>\n",
       "    <tr>\n",
       "      <th>18314</th>\n",
       "      <td>NaN</td>\n",
       "      <td>2017</td>\n",
       "      <td>uniqueid_3512</td>\n",
       "      <td>No</td>\n",
       "      <td>Urban</td>\n",
       "      <td>No</td>\n",
       "      <td>3.0</td>\n",
       "      <td>22.0</td>\n",
       "      <td>Female</td>\n",
       "      <td>Spouse</td>\n",
       "      <td>Single/Never Married</td>\n",
       "      <td>Primary education</td>\n",
       "      <td>Self employed</td>\n",
       "    </tr>\n",
       "    <tr>\n",
       "      <th>18315</th>\n",
       "      <td>NaN</td>\n",
       "      <td>2017</td>\n",
       "      <td>uniqueid_3513</td>\n",
       "      <td>No</td>\n",
       "      <td>Rural</td>\n",
       "      <td>Yes</td>\n",
       "      <td>3.0</td>\n",
       "      <td>44.0</td>\n",
       "      <td>Female</td>\n",
       "      <td>Other relative</td>\n",
       "      <td>Widowed</td>\n",
       "      <td>Primary education</td>\n",
       "      <td>Self employed</td>\n",
       "    </tr>\n",
       "    <tr>\n",
       "      <th>18316</th>\n",
       "      <td>NaN</td>\n",
       "      <td>2017</td>\n",
       "      <td>uniqueid_3514</td>\n",
       "      <td>No</td>\n",
       "      <td>Rural</td>\n",
       "      <td>Yes</td>\n",
       "      <td>2.0</td>\n",
       "      <td>67.0</td>\n",
       "      <td>Female</td>\n",
       "      <td>Spouse</td>\n",
       "      <td>Single/Never Married</td>\n",
       "      <td>No formal education</td>\n",
       "      <td>Remittance Dependent</td>\n",
       "    </tr>\n",
       "  </tbody>\n",
       "</table>\n",
       "</div>"
      ],
      "text/plain": [
       "      country  year      unique_id bank_account location_type  \\\n",
       "18200     NaN  2017  uniqueid_3398           No         Urban   \n",
       "18201     NaN  2017  uniqueid_3399           No         Urban   \n",
       "18202     NaN  2017  uniqueid_3400           No         Urban   \n",
       "18203     NaN  2017  uniqueid_3401           No         Urban   \n",
       "18204     NaN  2017  uniqueid_3402           No         Urban   \n",
       "18205     NaN  2017  uniqueid_3403           No         Rural   \n",
       "18206     NaN  2017  uniqueid_3404           No         Urban   \n",
       "18207     NaN  2017  uniqueid_3405           No         Urban   \n",
       "18208     NaN  2017  uniqueid_3406           No         Urban   \n",
       "18312     NaN  2017  uniqueid_3510           No         Urban   \n",
       "18313     NaN  2017  uniqueid_3511           No         Urban   \n",
       "18314     NaN  2017  uniqueid_3512           No         Urban   \n",
       "18315     NaN  2017  uniqueid_3513           No         Rural   \n",
       "18316     NaN  2017  uniqueid_3514           No         Rural   \n",
       "\n",
       "      cell_phone_access  household_size  respondent_age respondent_gender  \\\n",
       "18200               Yes             1.0            25.0            Female   \n",
       "18201                No             1.0            60.0            Female   \n",
       "18202               Yes             1.0            19.0            Female   \n",
       "18203                No             1.0            62.0            Female   \n",
       "18204                No             2.0            42.0            Female   \n",
       "18205                No             3.0            18.0              Male   \n",
       "18206               Yes             2.0            73.0            Female   \n",
       "18207                No             1.0            40.0              Male   \n",
       "18208                No             3.0            28.0              Male   \n",
       "18312                No             2.0            19.0              Male   \n",
       "18313               Yes             2.0            20.0            Female   \n",
       "18314                No             3.0            22.0            Female   \n",
       "18315               Yes             3.0            44.0            Female   \n",
       "18316               Yes             2.0            67.0            Female   \n",
       "\n",
       "            rship_w_head           marital_status      education_level  \\\n",
       "18200             Spouse     Single/Never Married    Primary education   \n",
       "18201  Head of Household                  Widowed    Primary education   \n",
       "18202             Spouse     Single/Never Married    Primary education   \n",
       "18203  Head of Household                  Widowed  No formal education   \n",
       "18204  Head of Household                  Widowed  No formal education   \n",
       "18205              Child       Divorced/Seperated  Secondary education   \n",
       "18206  Head of Household  Married/Living together  No formal education   \n",
       "18207  Head of Household                  Widowed  No formal education   \n",
       "18208             Parent  Married/Living together  No formal education   \n",
       "18312             Parent       Divorced/Seperated  Secondary education   \n",
       "18313     Other relative       Divorced/Seperated  No formal education   \n",
       "18314             Spouse     Single/Never Married    Primary education   \n",
       "18315     Other relative                  Widowed    Primary education   \n",
       "18316             Spouse     Single/Never Married  No formal education   \n",
       "\n",
       "                   job_type  \n",
       "18200  Remittance Dependent  \n",
       "18201         Self employed  \n",
       "18202             No Income  \n",
       "18203         Self employed  \n",
       "18204         Self employed  \n",
       "18205  Remittance Dependent  \n",
       "18206         Self employed  \n",
       "18207         Self employed  \n",
       "18208         Self employed  \n",
       "18312             No Income  \n",
       "18313   Informally employed  \n",
       "18314         Self employed  \n",
       "18315         Self employed  \n",
       "18316  Remittance Dependent  "
      ]
     },
     "execution_count": 14,
     "metadata": {},
     "output_type": "execute_result"
    }
   ],
   "source": [
    "# investigate the missing values in the 'country' column\n",
    "countries = financial.loc[financial['country'].isna() == True]\n",
    "\n",
    "# get the number of missing values \n",
    "print(countries.shape[0], \"missing values\")\n",
    "\n",
    "# preview the dataset\n",
    "countries\n",
    "\n",
    "## we see that the missing 'country' values seem to be in index range 18200 to 18316\n",
    "## since the entire dataset seems to be arranged first by index number then by country, we can assume\n",
    "## that these missing values all are the country.\n",
    "\n",
    "## so, we get the country before and after this dataset"
   ]
  },
  {
   "cell_type": "code",
   "execution_count": 15,
   "metadata": {
    "colab": {
     "base_uri": "https://localhost:8080/",
     "height": 230
    },
    "colab_type": "code",
    "id": "hfhC8hnaa_MS",
    "outputId": "a16e254c-3e7c-41a3-b32a-50159572eaf5"
   },
   "outputs": [
    {
     "data": {
      "text/html": [
       "<div>\n",
       "<style scoped>\n",
       "    .dataframe tbody tr th:only-of-type {\n",
       "        vertical-align: middle;\n",
       "    }\n",
       "\n",
       "    .dataframe tbody tr th {\n",
       "        vertical-align: top;\n",
       "    }\n",
       "\n",
       "    .dataframe thead th {\n",
       "        text-align: right;\n",
       "    }\n",
       "</style>\n",
       "<table border=\"1\" class=\"dataframe\">\n",
       "  <thead>\n",
       "    <tr style=\"text-align: right;\">\n",
       "      <th></th>\n",
       "      <th>country</th>\n",
       "      <th>year</th>\n",
       "      <th>unique_id</th>\n",
       "      <th>bank_account</th>\n",
       "      <th>location_type</th>\n",
       "      <th>cell_phone_access</th>\n",
       "      <th>household_size</th>\n",
       "      <th>respondent_age</th>\n",
       "      <th>respondent_gender</th>\n",
       "      <th>rship_w_head</th>\n",
       "      <th>marital_status</th>\n",
       "      <th>education_level</th>\n",
       "      <th>job_type</th>\n",
       "    </tr>\n",
       "  </thead>\n",
       "  <tbody>\n",
       "    <tr>\n",
       "      <th>3514</th>\n",
       "      <td>Kenya</td>\n",
       "      <td>2018</td>\n",
       "      <td>uniqueid_3515</td>\n",
       "      <td>No</td>\n",
       "      <td>Urban</td>\n",
       "      <td>No</td>\n",
       "      <td>3.0</td>\n",
       "      <td>17.0</td>\n",
       "      <td>Female</td>\n",
       "      <td>Child</td>\n",
       "      <td>Single/Never Married</td>\n",
       "      <td>Secondary education</td>\n",
       "      <td>Remittance Dependent</td>\n",
       "    </tr>\n",
       "    <tr>\n",
       "      <th>9582</th>\n",
       "      <td>Rwanda</td>\n",
       "      <td>2016</td>\n",
       "      <td>uniqueid_3515</td>\n",
       "      <td>No</td>\n",
       "      <td>Rural</td>\n",
       "      <td>Yes</td>\n",
       "      <td>1.0</td>\n",
       "      <td>68.0</td>\n",
       "      <td>Female</td>\n",
       "      <td>Head of Household</td>\n",
       "      <td>Widowed</td>\n",
       "      <td>No formal education</td>\n",
       "      <td>Farming and Fishing</td>\n",
       "    </tr>\n",
       "    <tr>\n",
       "      <th>18317</th>\n",
       "      <td>Tanzania</td>\n",
       "      <td>2017</td>\n",
       "      <td>uniqueid_3515</td>\n",
       "      <td>No</td>\n",
       "      <td>Urban</td>\n",
       "      <td>Yes</td>\n",
       "      <td>2.0</td>\n",
       "      <td>27.0</td>\n",
       "      <td>Female</td>\n",
       "      <td>Child</td>\n",
       "      <td>Divorced/Seperated</td>\n",
       "      <td>No formal education</td>\n",
       "      <td>Informally employed</td>\n",
       "    </tr>\n",
       "  </tbody>\n",
       "</table>\n",
       "</div>"
      ],
      "text/plain": [
       "        country  year      unique_id bank_account location_type  \\\n",
       "3514      Kenya  2018  uniqueid_3515           No         Urban   \n",
       "9582     Rwanda  2016  uniqueid_3515           No         Rural   \n",
       "18317  Tanzania  2017  uniqueid_3515           No         Urban   \n",
       "\n",
       "      cell_phone_access  household_size  respondent_age respondent_gender  \\\n",
       "3514                 No             3.0            17.0            Female   \n",
       "9582                Yes             1.0            68.0            Female   \n",
       "18317               Yes             2.0            27.0            Female   \n",
       "\n",
       "            rship_w_head        marital_status      education_level  \\\n",
       "3514               Child  Single/Never Married  Secondary education   \n",
       "9582   Head of Household               Widowed  No formal education   \n",
       "18317              Child    Divorced/Seperated  No formal education   \n",
       "\n",
       "                   job_type  \n",
       "3514   Remittance Dependent  \n",
       "9582    Farming and Fishing  \n",
       "18317   Informally employed  "
      ]
     },
     "execution_count": 15,
     "metadata": {},
     "output_type": "execute_result"
    }
   ],
   "source": [
    "# examine the record above the dataset\n",
    "financial.loc[financial['unique_id'] == 'uniqueid_3397']\n",
    "## we see that Tanzania has a unique ID of 3397 and is in index number 18199, which is directly above\n",
    "## the first record of the dataset containing the missing country.\n",
    "\n",
    "# examine the record below the dataset\n",
    "financial.loc[financial['unique_id'] == 'uniqueid_3515']\n",
    "## we see that Tanzania has a unique ID of 3515 and is in index number 18317, which is directly below\n",
    "## the last record of the dataset containing the missing country.\n"
   ]
  },
  {
   "cell_type": "code",
   "execution_count": 16,
   "metadata": {
    "colab": {
     "base_uri": "https://localhost:8080/",
     "height": 34
    },
    "colab_type": "code",
    "id": "8rlUu7Jra_MY",
    "outputId": "95ff9b89-bdc4-42f6-f8ff-6e91ecf0b927"
   },
   "outputs": [
    {
     "data": {
      "text/plain": [
       "0"
      ]
     },
     "execution_count": 16,
     "metadata": {},
     "output_type": "execute_result"
    }
   ],
   "source": [
    "## therefore, to deal with these null values, it would make sense to replace them with \"Tanzania\".\n",
    "## for this, we will use the \"fill forward\" method\n",
    "\n",
    "financial.country.fillna(method='ffill', inplace=True)\n",
    "\n",
    "## hence, we have taken care of the missing values in the 'country' column\n",
    "\n",
    "# confirm that the 'country' column does not have any missing values\n",
    "np.count_nonzero(financial.country.isna())\n",
    "\n",
    "## there are no more null values in the 'country' column"
   ]
  },
  {
   "cell_type": "markdown",
   "metadata": {
    "colab_type": "text",
    "id": "-4UTA1Bga_Mg"
   },
   "source": [
    "##### 3.3.2 Dropping the rest of the null values since they depend on too many variables to be simply imputed"
   ]
  },
  {
   "cell_type": "code",
   "execution_count": 17,
   "metadata": {
    "colab": {
     "base_uri": "https://localhost:8080/",
     "height": 34
    },
    "colab_type": "code",
    "id": "tRHPYq3Na_Mh",
    "outputId": "60771c3c-942c-4e8d-b9f8-bc4aca58495e"
   },
   "outputs": [
    {
     "data": {
      "text/plain": [
       "(23357, 13)"
      ]
     },
     "execution_count": 17,
     "metadata": {},
     "output_type": "execute_result"
    }
   ],
   "source": [
    "financial.dropna(inplace=True)\n",
    "\n",
    "# now checking the shape of our new dataset\n",
    "financial.shape\n",
    "\n",
    "## we are down to 23,321records"
   ]
  },
  {
   "cell_type": "markdown",
   "metadata": {
    "colab_type": "text",
    "id": "APlR7H4ra_Mk"
   },
   "source": [
    "#### <font color='blue'> 3.4 Other anomalies in the data </font>"
   ]
  },
  {
   "cell_type": "code",
   "execution_count": 18,
   "metadata": {
    "colab": {
     "base_uri": "https://localhost:8080/",
     "height": 69
    },
    "colab_type": "code",
    "id": "4XTnzfF2a_Mm",
    "outputId": "890c84a9-27f3-450a-f83f-f7aac3635afd"
   },
   "outputs": [
    {
     "data": {
      "text/html": [
       "<div>\n",
       "<style scoped>\n",
       "    .dataframe tbody tr th:only-of-type {\n",
       "        vertical-align: middle;\n",
       "    }\n",
       "\n",
       "    .dataframe tbody tr th {\n",
       "        vertical-align: top;\n",
       "    }\n",
       "\n",
       "    .dataframe thead th {\n",
       "        text-align: right;\n",
       "    }\n",
       "</style>\n",
       "<table border=\"1\" class=\"dataframe\">\n",
       "  <thead>\n",
       "    <tr style=\"text-align: right;\">\n",
       "      <th></th>\n",
       "      <th>country</th>\n",
       "      <th>year</th>\n",
       "      <th>unique_id</th>\n",
       "      <th>bank_account</th>\n",
       "      <th>location_type</th>\n",
       "      <th>cell_phone_access</th>\n",
       "      <th>household_size</th>\n",
       "      <th>respondent_age</th>\n",
       "      <th>respondent_gender</th>\n",
       "      <th>rship_w_head</th>\n",
       "      <th>marital_status</th>\n",
       "      <th>education_level</th>\n",
       "      <th>job_type</th>\n",
       "    </tr>\n",
       "  </thead>\n",
       "  <tbody>\n",
       "  </tbody>\n",
       "</table>\n",
       "</div>"
      ],
      "text/plain": [
       "Empty DataFrame\n",
       "Columns: [country, year, unique_id, bank_account, location_type, cell_phone_access, household_size, respondent_age, respondent_gender, rship_w_head, marital_status, education_level, job_type]\n",
       "Index: []"
      ]
     },
     "execution_count": 18,
     "metadata": {},
     "output_type": "execute_result"
    }
   ],
   "source": [
    "# remove all records that have education level as '6' since this does not make\n",
    "# any logical sense and imputing will prove to be tricky\n",
    "edu6 = financial.loc[financial['education_level'] == '6'].index\n",
    "financial = financial.drop(edu6)\n",
    "\n",
    "# check to confirm they have been removed\n",
    "financial.loc[financial['education_level'] == '6']"
   ]
  },
  {
   "cell_type": "code",
   "execution_count": 19,
   "metadata": {
    "colab": {
     "base_uri": "https://localhost:8080/",
     "height": 69
    },
    "colab_type": "code",
    "id": "BE-s1QfFeLsR",
    "outputId": "70471ab9-fd38-4667-b027-c7617d5e2bdc"
   },
   "outputs": [
    {
     "data": {
      "text/html": [
       "<div>\n",
       "<style scoped>\n",
       "    .dataframe tbody tr th:only-of-type {\n",
       "        vertical-align: middle;\n",
       "    }\n",
       "\n",
       "    .dataframe tbody tr th {\n",
       "        vertical-align: top;\n",
       "    }\n",
       "\n",
       "    .dataframe thead th {\n",
       "        text-align: right;\n",
       "    }\n",
       "</style>\n",
       "<table border=\"1\" class=\"dataframe\">\n",
       "  <thead>\n",
       "    <tr style=\"text-align: right;\">\n",
       "      <th></th>\n",
       "      <th>country</th>\n",
       "      <th>year</th>\n",
       "      <th>unique_id</th>\n",
       "      <th>bank_account</th>\n",
       "      <th>location_type</th>\n",
       "      <th>cell_phone_access</th>\n",
       "      <th>household_size</th>\n",
       "      <th>respondent_age</th>\n",
       "      <th>respondent_gender</th>\n",
       "      <th>rship_w_head</th>\n",
       "      <th>marital_status</th>\n",
       "      <th>education_level</th>\n",
       "      <th>job_type</th>\n",
       "    </tr>\n",
       "  </thead>\n",
       "  <tbody>\n",
       "  </tbody>\n",
       "</table>\n",
       "</div>"
      ],
      "text/plain": [
       "Empty DataFrame\n",
       "Columns: [country, year, unique_id, bank_account, location_type, cell_phone_access, household_size, respondent_age, respondent_gender, rship_w_head, marital_status, education_level, job_type]\n",
       "Index: []"
      ]
     },
     "execution_count": 19,
     "metadata": {},
     "output_type": "execute_result"
    }
   ],
   "source": [
    "# remove household sizes of 0 since they make no logical sense\n",
    "house0 = financial.loc[financial['household_size'] == 0].index\n",
    "financial = financial.drop(house0)\n",
    "\n",
    "# check to confirm that they have been removed\n",
    "financial.loc[financial['household_size'] == 0]"
   ]
  },
  {
   "cell_type": "code",
   "execution_count": 20,
   "metadata": {
    "colab": {
     "base_uri": "https://localhost:8080/",
     "height": 255
    },
    "colab_type": "code",
    "id": "AHgGYEf3hHIl",
    "outputId": "67325079-b43f-4494-dcef-18f6d834ecac"
   },
   "outputs": [
    {
     "data": {
      "text/plain": [
       "country              0\n",
       "year                 0\n",
       "unique_id            0\n",
       "bank_account         0\n",
       "location_type        0\n",
       "cell_phone_access    0\n",
       "household_size       0\n",
       "respondent_age       0\n",
       "respondent_gender    0\n",
       "rship_w_head         0\n",
       "marital_status       0\n",
       "education_level      0\n",
       "job_type             0\n",
       "dtype: int64"
      ]
     },
     "execution_count": 20,
     "metadata": {},
     "output_type": "execute_result"
    }
   ],
   "source": [
    "# finally confirm there are no missing values\n",
    "financial.isna().sum()"
   ]
  },
  {
   "cell_type": "code",
   "execution_count": 21,
   "metadata": {
    "colab": {
     "base_uri": "https://localhost:8080/",
     "height": 34
    },
    "colab_type": "code",
    "id": "kK61EYwqhNzT",
    "outputId": "d2ce1fa9-d972-4826-8ddb-2e4d536fac77"
   },
   "outputs": [
    {
     "data": {
      "text/plain": [
       "(23294, 13)"
      ]
     },
     "execution_count": 21,
     "metadata": {},
     "output_type": "execute_result"
    }
   ],
   "source": [
    "# check final shape of dataset\n",
    "financial.shape\n",
    "\n",
    "# we are now down to 23,294 records"
   ]
  },
  {
   "cell_type": "markdown",
   "metadata": {
    "colab_type": "text",
    "id": "ksn5-QT9a_Mp"
   },
   "source": [
    "# <font color='green'> 4. Data Analysis </font>"
   ]
  },
  {
   "cell_type": "markdown",
   "metadata": {
    "colab_type": "text",
    "id": "cF-cok2Da_Mr"
   },
   "source": [
    "## <font color='blue'> 4.1 Univariate Analysis </font>"
   ]
  },
  {
   "cell_type": "code",
   "execution_count": 22,
   "metadata": {
    "colab": {
     "base_uri": "https://localhost:8080/",
     "height": 282
    },
    "colab_type": "code",
    "id": "Vm8rPoo4a_Ms",
    "outputId": "5aa9daf2-843e-4407-d561-555fa51357b1"
   },
   "outputs": [
    {
     "data": {
      "text/plain": [
       "<matplotlib.axes._subplots.AxesSubplot at 0x7faa4cb93b00>"
      ]
     },
     "execution_count": 22,
     "metadata": {},
     "output_type": "execute_result"
    },
    {
     "data": {
      "image/png": "[encoded data removed]",
      "text/plain": [
       "<Figure size 432x288 with 1 Axes>"
      ]
     },
     "metadata": {
      "needs_background": "light"
     },
     "output_type": "display_data"
    }
   ],
   "source": [
    "# distribution per country\n",
    "financial.country.value_counts().plot.bar(rot=0)\n",
    "\n",
    "## Rwanda has the most number of respondents followed by Tanzania, Kenya, and finally\n",
    "## Uganda"
   ]
  },
  {
   "cell_type": "code",
   "execution_count": 23,
   "metadata": {
    "colab": {
     "base_uri": "https://localhost:8080/",
     "height": 298
    },
    "colab_type": "code",
    "id": "8NcQBcj0a_Mv",
    "outputId": "fa172f86-4262-490d-b735-804e48b72fb0"
   },
   "outputs": [
    {
     "data": {
      "text/plain": [
       "Text(0.5, 1.0, 'Females vs Males')"
      ]
     },
     "execution_count": 23,
     "metadata": {},
     "output_type": "execute_result"
    },
    {
     "data": {
      "image/png": "[encoded data removed]",
      "text/plain": [
       "<Figure size 432x288 with 1 Axes>"
      ]
     },
     "metadata": {
      "needs_background": "light"
     },
     "output_type": "display_data"
    }
   ],
   "source": [
    "# compare number of male respondents to that of female respondents\n",
    "financial.respondent_gender.value_counts().plot(kind='bar', rot=0, color=('pink','blue'))\n",
    "plt.title(\"Females vs Males\")\n",
    "\n",
    "## females outnumber males"
   ]
  },
  {
   "cell_type": "code",
   "execution_count": 24,
   "metadata": {
    "colab": {
     "base_uri": "https://localhost:8080/",
     "height": 68
    },
    "colab_type": "code",
    "id": "cHGB0Q9Ga_My",
    "outputId": "a496c317-5231-4aa9-f89b-1075a465c9bf"
   },
   "outputs": [
    {
     "data": {
      "text/plain": [
       "No     20003\n",
       "Yes     3291\n",
       "Name: bank_account, dtype: int64"
      ]
     },
     "execution_count": 24,
     "metadata": {},
     "output_type": "execute_result"
    }
   ],
   "source": [
    "# number of people with bank accounts\n",
    "financial['bank_account'].value_counts()\n",
    "\n",
    "## 20,003 do not have a bank account while only 3,291 do"
   ]
  },
  {
   "cell_type": "code",
   "execution_count": 25,
   "metadata": {
    "colab": {
     "base_uri": "https://localhost:8080/",
     "height": 68
    },
    "colab_type": "code",
    "id": "Gfyi0PWza_M4",
    "outputId": "238c17f6-222b-4f10-e115-0c5c9d96ec5e"
   },
   "outputs": [
    {
     "data": {
      "text/plain": [
       "Rural    14238\n",
       "Urban     9056\n",
       "Name: location_type, dtype: int64"
      ]
     },
     "execution_count": 25,
     "metadata": {},
     "output_type": "execute_result"
    }
   ],
   "source": [
    "# how do rural respondents compare to urban ones?\n",
    "financial.location_type.value_counts()\n",
    "\n",
    "# rural respondents outnumber urban ones 14,238 to 9,056"
   ]
  },
  {
   "cell_type": "code",
   "execution_count": 26,
   "metadata": {
    "colab": {
     "base_uri": "https://localhost:8080/",
     "height": 265
    },
    "colab_type": "code",
    "id": "8YqeaYIba_M7",
    "outputId": "feb95a01-0282-4d58-8bb9-ed4063747a66"
   },
   "outputs": [
    {
     "data": {
      "text/plain": [
       "<matplotlib.axes._subplots.AxesSubplot at 0x7faa4c800b00>"
      ]
     },
     "execution_count": 26,
     "metadata": {},
     "output_type": "execute_result"
    },
    {
     "data": {
      "image/png": "[encoded data removed]",
      "text/plain": [
       "<Figure size 432x288 with 1 Axes>"
      ]
     },
     "metadata": {},
     "output_type": "display_data"
    }
   ],
   "source": [
    "# show distribution by marital status\n",
    "financial['marital_status'].value_counts().plot.pie(autopct='%0.1f%%')\n",
    "\n",
    "## majority of the respondents are married/living together, followed by those who\n",
    "## are single/never married. Very few don't know their marital status, which I consider unusual"
   ]
  },
  {
   "cell_type": "code",
   "execution_count": 27,
   "metadata": {
    "colab": {
     "base_uri": "https://localhost:8080/",
     "height": 265
    },
    "colab_type": "code",
    "id": "Zx9YV15za_NB",
    "outputId": "f87d88bf-6473-407e-a897-85990b00b17e"
   },
   "outputs": [
    {
     "data": {
      "text/plain": [
       "<matplotlib.axes._subplots.AxesSubplot at 0x7faa4c7d2198>"
      ]
     },
     "execution_count": 27,
     "metadata": {},
     "output_type": "execute_result"
    },
    {
     "data": {
      "image/png": "[encoded data removed]",
      "text/plain": [
       "<Figure size 432x288 with 1 Axes>"
      ]
     },
     "metadata": {},
     "output_type": "display_data"
    }
   ],
   "source": [
    "# show distribution by education level\n",
    "financial.education_level.value_counts().plot.pie(autopct='%0.1f%%')\n",
    "\n",
    "## more than half of the respondents have achieved at least primary level education"
   ]
  },
  {
   "cell_type": "code",
   "execution_count": 28,
   "metadata": {
    "colab": {
     "base_uri": "https://localhost:8080/",
     "height": 204
    },
    "colab_type": "code",
    "id": "0wZgcO-ja_NE",
    "outputId": "60225c66-93d2-49a1-8bb1-a8a3e5188d12"
   },
   "outputs": [
    {
     "data": {
      "text/plain": [
       "<matplotlib.axes._subplots.AxesSubplot at 0x7faa4c7998d0>"
      ]
     },
     "execution_count": 28,
     "metadata": {},
     "output_type": "execute_result"
    },
    {
     "data": {
      "image/png": "[encoded data removed]",
      "text/plain": [
       "<Figure size 432x288 with 1 Axes>"
      ]
     },
     "metadata": {
      "needs_background": "light"
     },
     "output_type": "display_data"
    }
   ],
   "source": [
    "# frequency ditribution of job types\n",
    "financial.job_type.value_counts().plot(kind='barh')\n",
    "\n",
    "## majority of the respondents are self-employed, whereas the least frequent job type\n",
    "## are those dependent on the government excluding the respondents that either\n",
    "## don't know or refuse to answer"
   ]
  },
  {
   "cell_type": "code",
   "execution_count": 29,
   "metadata": {
    "colab": {
     "base_uri": "https://localhost:8080/",
     "height": 85
    },
    "colab_type": "code",
    "id": "Zncdm689a_NH",
    "outputId": "1d551257-9c60-48f3-cf72-a55e3e1af7ea"
   },
   "outputs": [
    {
     "name": "stdout",
     "output_type": "stream",
     "text": [
      "Mean age is  38.8\n",
      "Median age is  35.0\n",
      "Modal age is  0    30.0\n",
      "dtype: float64\n"
     ]
    }
   ],
   "source": [
    "# mean, median, and modal age\n",
    "print(\"Mean age is \", round(financial.respondent_age.mean(),1))\n",
    "print(\"Median age is \", financial.respondent_age.median())\n",
    "print(\"Modal age is \", financial.respondent_age.mode())\n",
    "\n",
    "## Mean is 38.8, Median is 35, and Mode is 30"
   ]
  },
  {
   "cell_type": "code",
   "execution_count": 30,
   "metadata": {
    "colab": {
     "base_uri": "https://localhost:8080/",
     "height": 85
    },
    "colab_type": "code",
    "id": "keKaymi3a_NK",
    "outputId": "7e231d9e-8bc5-44e6-bafa-de7ddea06e47"
   },
   "outputs": [
    {
     "name": "stdout",
     "output_type": "stream",
     "text": [
      "Mean household size is  3.7\n",
      "Median household size is  3.0\n",
      "Modal household size is  0    2.0\n",
      "dtype: float64\n"
     ]
    }
   ],
   "source": [
    "# mean, median, and modal household size\n",
    "print(\"Mean household size is \", round(financial.household_size.mean(),1))\n",
    "print(\"Median household size is \", financial.household_size.median())\n",
    "print(\"Modal household size is \", financial.household_size.mode())\n",
    "\n",
    "## Mean is 3.7, median is 3, mode is 2"
   ]
  },
  {
   "cell_type": "code",
   "execution_count": 31,
   "metadata": {
    "colab": {
     "base_uri": "https://localhost:8080/",
     "height": 282
    },
    "colab_type": "code",
    "id": "hfRVx3IVa_NN",
    "outputId": "94e4ede4-996e-49e2-ff33-3cf7d5139216"
   },
   "outputs": [
    {
     "data": {
      "text/plain": [
       "<matplotlib.axes._subplots.AxesSubplot at 0x7faa4c799390>"
      ]
     },
     "execution_count": 31,
     "metadata": {},
     "output_type": "execute_result"
    },
    {
     "data": {
      "image/png": "[encoded data removed]",
      "text/plain": [
       "<Figure size 432x288 with 1 Axes>"
      ]
     },
     "metadata": {
      "needs_background": "light"
     },
     "output_type": "display_data"
    }
   ],
   "source": [
    "# distribution of age\n",
    "financial.respondent_age.hist(bins=10)\n",
    "\n",
    "## the distribution is positively skewed, i.e., most of the values fall to the left\n",
    "## side of the mean. This shows that the sample contains a lot of respondents that are \n",
    "## relatively young"
   ]
  },
  {
   "cell_type": "code",
   "execution_count": 32,
   "metadata": {
    "colab": {
     "base_uri": "https://localhost:8080/",
     "height": 282
    },
    "colab_type": "code",
    "id": "KSsmAprya_NS",
    "outputId": "6ffef28f-f576-4ac7-ea31-fde3c2fe45af"
   },
   "outputs": [
    {
     "data": {
      "text/plain": [
       "<matplotlib.axes._subplots.AxesSubplot at 0x7faa4c679d30>"
      ]
     },
     "execution_count": 32,
     "metadata": {},
     "output_type": "execute_result"
    },
    {
     "data": {
      "image/png": "[encoded data removed]",
      "text/plain": [
       "<Figure size 432x288 with 1 Axes>"
      ]
     },
     "metadata": {
      "needs_background": "light"
     },
     "output_type": "display_data"
    }
   ],
   "source": [
    "# distribution of household size\n",
    "financial.household_size.hist(bins=10)\n",
    "\n",
    "## the distribution is also positively skewed, showing that the sample has a preference\n",
    "## for smaller household sizes"
   ]
  },
  {
   "cell_type": "code",
   "execution_count": 33,
   "metadata": {
    "colab": {
     "base_uri": "https://localhost:8080/",
     "height": 51
    },
    "colab_type": "code",
    "id": "J_GD7qiBa_NW",
    "outputId": "3a0255d0-d80a-4a38-d0a3-3c8d52f30694"
   },
   "outputs": [
    {
     "name": "stdout",
     "output_type": "stream",
     "text": [
      "Standard deviation of respondent age: 16.47659057982765\n",
      "Standard deviation of household size: 2.2777038292162373\n"
     ]
    }
   ],
   "source": [
    "# standard deviations of respondent ages and household sizes\n",
    "print(\"Standard deviation of respondent age:\", financial.respondent_age.std())\n",
    "print(\"Standard deviation of household size:\", financial.household_size.std())\n",
    "\n",
    "## the standard deviations of respondent ages and household are approximately 16.48\n",
    "## and 2.28 respectively.This means that the respondent ages are farther spread apart\n",
    "## from the mean while the dispersion of the household sizes is quite close to the mean"
   ]
  },
  {
   "cell_type": "code",
   "execution_count": 34,
   "metadata": {
    "colab": {
     "base_uri": "https://localhost:8080/",
     "height": 51
    },
    "colab_type": "code",
    "id": "KIMc814Wa_Nb",
    "outputId": "63042266-b213-4234-ad63-6cd0019e12a4"
   },
   "outputs": [
    {
     "name": "stdout",
     "output_type": "stream",
     "text": [
      "Respondent age has a kurtosis of approximately 0.09407961553056055\n",
      "Household size has a kurtosis of approximately 1.1611027371148\n"
     ]
    }
   ],
   "source": [
    "# what about the kurtosis of the distributions?\n",
    "print(\"Respondent age has a kurtosis of approximately\", financial.respondent_age.kurt())\n",
    "print(\"Household size has a kurtosis of approximately\", financial.household_size.kurt())\n",
    "\n",
    "## both have a kurtosis value lower than 3, which is the kurtosis value of a normal distribution.\n",
    "## this makes both distributions platykurtic, which means that the distributions are light-tailed\n",
    "## indicating the presence of little to no outliers"
   ]
  },
  {
   "cell_type": "markdown",
   "metadata": {
    "colab_type": "text",
    "id": "sNYzvgESa_Nf"
   },
   "source": [
    "## <font color='blue'> 4.2 Bivariate Analysis </font>"
   ]
  },
  {
   "cell_type": "markdown",
   "metadata": {},
   "source": [
    "#### 4.2.1 Factors affecting whether one has a Bank Account"
   ]
  },
  {
   "cell_type": "code",
   "execution_count": 35,
   "metadata": {},
   "outputs": [
    {
     "data": {
      "text/plain": [
       "[Text(0, 0.5, 'Number of Respondents'), Text(0.5, 1.0, 'Bank Account by Year')]"
      ]
     },
     "execution_count": 35,
     "metadata": {},
     "output_type": "execute_result"
    },
    {
     "data": {
      "image/png": "[encoded data removed]",
      "text/plain": [
       "<Figure size 432x288 with 1 Axes>"
      ]
     },
     "metadata": {
      "needs_background": "light"
     },
     "output_type": "display_data"
    }
   ],
   "source": [
    "# bank account by year\n",
    "by = sns.countplot('bank_account', hue='year', data=financial)\n",
    "by.set(ylabel = 'Number of Respondents',\n",
    "       title = 'Bank Account by Year')\n",
    "\n",
    "## while there is increase in getting bank accounts over the years, the numbers are\n",
    "## still drastically low. This makes it very important to look into financial inclusion"
   ]
  },
  {
   "cell_type": "code",
   "execution_count": 36,
   "metadata": {},
   "outputs": [
    {
     "data": {
      "text/plain": [
       "[Text(0, 0.5, 'Number of Respondents'),\n",
       " Text(0.5, 1.0, 'Bank Account by Country')]"
      ]
     },
     "execution_count": 36,
     "metadata": {},
     "output_type": "execute_result"
    },
    {
     "data": {
      "image/png": "[encoded data removed]",
      "text/plain": [
       "<Figure size 432x288 with 1 Axes>"
      ]
     },
     "metadata": {
      "needs_background": "light"
     },
     "output_type": "display_data"
    }
   ],
   "source": [
    "# bank account by country\n",
    "bc = sns.countplot('country', hue='bank_account', data=financial)\n",
    "bc.set(ylabel = 'Number of Respondents',\n",
    "       title = 'Bank Account by Country')\n",
    "\n",
    "## while all four East African countries have disappointingly low numbers of people with\n",
    "## bank accounts, Kenya has the highest with Uganda having the lowest numbers of bank account\n",
    "## holders. Rwanda, however, reports having the highest number of people without bank accounts"
   ]
  },
  {
   "cell_type": "code",
   "execution_count": 37,
   "metadata": {
    "colab": {
     "base_uri": "https://localhost:8080/",
     "height": 330
    },
    "colab_type": "code",
    "id": "XByTvlSca_Nj",
    "outputId": "a788fe17-11be-4b41-a955-f7360d2c1ce9"
   },
   "outputs": [
    {
     "data": {
      "text/plain": [
       "[Text(0, 0.5, 'Number of Respondents'),\n",
       " Text(0.5, 1.0, 'Bank Account by Gender')]"
      ]
     },
     "execution_count": 37,
     "metadata": {},
     "output_type": "execute_result"
    },
    {
     "data": {
      "image/png": "[encoded data removed]",
      "text/plain": [
       "<Figure size 432x288 with 1 Axes>"
      ]
     },
     "metadata": {
      "needs_background": "light"
     },
     "output_type": "display_data"
    }
   ],
   "source": [
    "# male vs female have bank account\n",
    "gba = sns.countplot('bank_account', hue='respondent_gender', data=financial)\n",
    "gba.set(ylabel = 'Number of Respondents',\n",
    "       title = 'Bank Account by Gender')\n",
    "\n",
    "## more males than females have a bank account"
   ]
  },
  {
   "cell_type": "code",
   "execution_count": 38,
   "metadata": {
    "colab": {
     "base_uri": "https://localhost:8080/",
     "height": 330
    },
    "colab_type": "code",
    "id": "_0KWe2jHa_Nt",
    "outputId": "3a32be71-6f3b-437d-d8d7-9285552439ad"
   },
   "outputs": [
    {
     "data": {
      "text/plain": [
       "[Text(0, 0.5, 'Number of Location Entries'),\n",
       " Text(0.5, 1.0, 'Bank Account by Location')]"
      ]
     },
     "execution_count": 38,
     "metadata": {},
     "output_type": "execute_result"
    },
    {
     "data": {
      "image/png": "[encoded data removed]",
      "text/plain": [
       "<Figure size 432x288 with 1 Axes>"
      ]
     },
     "metadata": {
      "needs_background": "light"
     },
     "output_type": "display_data"
    }
   ],
   "source": [
    "# rural vs urban access to a bank account\n",
    "rvu = sns.countplot('bank_account', hue='location_type', data=financial)\n",
    "rvu.set(ylabel = 'Number of Location Entries',\n",
    "       title = 'Bank Account by Location')\n",
    "\n",
    "## no seemingly significant difference between location and having a bank account\n",
    "## however, more rural respondents than urban ones report not having a bank account"
   ]
  },
  {
   "cell_type": "code",
   "execution_count": 39,
   "metadata": {},
   "outputs": [
    {
     "data": {
      "text/plain": [
       "[Text(0, 0.5, 'Number of those with cell phones'),\n",
       " Text(0.5, 1.0, 'Bank Account by Cell Phone Access')]"
      ]
     },
     "execution_count": 39,
     "metadata": {},
     "output_type": "execute_result"
    },
    {
     "data": {
      "image/png": "[encoded data removed]",
      "text/plain": [
       "<Figure size 432x288 with 1 Axes>"
      ]
     },
     "metadata": {
      "needs_background": "light"
     },
     "output_type": "display_data"
    }
   ],
   "source": [
    "# bank account by cell phone access\n",
    "bcpa = sns.countplot('bank_account', hue='cell_phone_access', data=financial)\n",
    "bcpa.set(ylabel = 'Number of those with cell phones',\n",
    "       title = 'Bank Account by Cell Phone Access')\n",
    "\n",
    "## having cell phone access makes you more likely to have a bank account. However, far many who\n",
    "## have cell phones still do not have bank accounts"
   ]
  },
  {
   "cell_type": "code",
   "execution_count": 40,
   "metadata": {},
   "outputs": [
    {
     "data": {
      "text/plain": [
       "Text(0.5, 1.0, 'Bank account by marital status')"
      ]
     },
     "execution_count": 40,
     "metadata": {},
     "output_type": "execute_result"
    },
    {
     "data": {
      "image/png": "[encoded data removed]",
      "text/plain": [
       "<Figure size 720x720 with 1 Axes>"
      ]
     },
     "metadata": {
      "needs_background": "light"
     },
     "output_type": "display_data"
    }
   ],
   "source": [
    "# bank account by marital status\n",
    "bms = financial.groupby(['bank_account', 'marital_status']).size().unstack().plot(kind='bar',\n",
    "                                                                                        stacked=True,\n",
    "                                                                                       rot=0,\n",
    "                                                                                       figsize=([10,10]))\n",
    "plt.title('Bank account by marital status')\n",
    "\n",
    "## of those who do not have a bank account, an overwhelming majority are either married/living\n",
    "## together or single/never married. Of those who do have a bank account, their marital status \n",
    "## is married/living together, while those who are widowed have the least number of bank accounts"
   ]
  },
  {
   "cell_type": "code",
   "execution_count": 41,
   "metadata": {},
   "outputs": [
    {
     "data": {
      "text/plain": [
       "Text(0.5, 1.0, 'Bank account by relationship with head of household')"
      ]
     },
     "execution_count": 41,
     "metadata": {},
     "output_type": "execute_result"
    },
    {
     "data": {
      "image/png": "[encoded data removed]",
      "text/plain": [
       "<Figure size 720x720 with 1 Axes>"
      ]
     },
     "metadata": {
      "needs_background": "light"
     },
     "output_type": "display_data"
    }
   ],
   "source": [
    "# bank account by relationship with head of household\n",
    "brh = financial.groupby(['bank_account', 'rship_w_head']).size().unstack().plot(kind='bar',\n",
    "                                                                                        stacked=True,\n",
    "                                                                                       rot=0,\n",
    "                                                                                       figsize=([10,10]))\n",
    "plt.title('Bank account by relationship with head of household')\n",
    "\n",
    "## relationship with head of household does not guarantee that one will have a bank account"
   ]
  },
  {
   "cell_type": "code",
   "execution_count": 42,
   "metadata": {},
   "outputs": [
    {
     "data": {
      "text/plain": [
       "Text(0.5, 1.0, 'Bank account by education level')"
      ]
     },
     "execution_count": 42,
     "metadata": {},
     "output_type": "execute_result"
    },
    {
     "data": {
      "image/png": "[encoded data removed]",
      "text/plain": [
       "<Figure size 720x720 with 1 Axes>"
      ]
     },
     "metadata": {
      "needs_background": "light"
     },
     "output_type": "display_data"
    }
   ],
   "source": [
    "# bank account by education level\n",
    "bel = financial.groupby(['bank_account', 'education_level']).size().unstack().plot(kind='bar',\n",
    "                                                                                        stacked=True,\n",
    "                                                                                       rot=0,\n",
    "                                                                                       figsize=([10,10]))\n",
    "plt.title('Bank account by education level')\n",
    "\n",
    "## education level also does not guarantee that one will have a bank account. However,\n",
    "## majority of those who do not have a bank account have reached primary level "
   ]
  },
  {
   "cell_type": "code",
   "execution_count": 43,
   "metadata": {},
   "outputs": [
    {
     "data": {
      "text/plain": [
       "Text(0.5, 1.0, 'Bank account by job type')"
      ]
     },
     "execution_count": 43,
     "metadata": {},
     "output_type": "execute_result"
    },
    {
     "data": {
      "image/png": "[encoded data removed]",
      "text/plain": [
       "<Figure size 720x720 with 1 Axes>"
      ]
     },
     "metadata": {
      "needs_background": "light"
     },
     "output_type": "display_data"
    }
   ],
   "source": [
    "# bank account by job type\n",
    "bjt = financial.groupby(['bank_account', 'job_type']).size().unstack().plot(kind='bar',\n",
    "                                                                                        stacked=True,\n",
    "                                                                                       rot=0,\n",
    "                                                                                       figsize=([10,10]))\n",
    "plt.title('Bank account by job type')\n",
    "\n",
    "## those who reported being self employed, informally employed, or working in the farming\n",
    "## and fishing sector have the numbers when it comes to NOT having a bank account. However,\n",
    "## of those who do actually have a bank account, self employed respondents are in the lead followed\n",
    "## by those who do farming or fishing. Additionally, those who are dependent on the government\n",
    "## have the least number of bank accounts"
   ]
  },
  {
   "cell_type": "code",
   "execution_count": 44,
   "metadata": {},
   "outputs": [
    {
     "data": {
      "text/plain": [
       "Ttest_indResult(statistic=3.0789585893837375, pvalue=0.002079671128675828)"
      ]
     },
     "execution_count": 44,
     "metadata": {},
     "output_type": "execute_result"
    }
   ],
   "source": [
    "# does age affect whether or not you have a bank account?\n",
    "from scipy import stats\n",
    "\n",
    "yesAge = financial.bank_account == \"Yes\"\n",
    "yesAge = financial[yesAge].respondent_age\n",
    "\n",
    "noAge = financial.bank_account == \"No\"\n",
    "noAge = financial[noAge].respondent_age\n",
    "\n",
    "stats.ttest_ind(yesAge, noAge)\n",
    "\n",
    "## p-value is less than the alpha value of 0.05, hence we conclude that, yes, having\n",
    "## a bank account depends on age"
   ]
  },
  {
   "cell_type": "code",
   "execution_count": 45,
   "metadata": {},
   "outputs": [
    {
     "data": {
      "text/plain": [
       "Ttest_indResult(statistic=-3.5779544638753364, pvalue=0.0003469962876122869)"
      ]
     },
     "execution_count": 45,
     "metadata": {},
     "output_type": "execute_result"
    }
   ],
   "source": [
    "# does household size affect whether or not you have a bank account?\n",
    "yesHH = financial.bank_account == \"Yes\"\n",
    "yesHH = financial[yesHH].household_size\n",
    "\n",
    "noHH = financial.bank_account == \"No\"\n",
    "noHH = financial[noHH].household_size\n",
    "\n",
    "stats.ttest_ind(yesHH, noHH)\n",
    "\n",
    "## p-value is less than the alpha value of 0.05, hence we conclude that, yes, having\n",
    "## a bank account depends on household size"
   ]
  },
  {
   "cell_type": "markdown",
   "metadata": {},
   "source": [
    "#### 4.2.1 Other Factors"
   ]
  },
  {
   "cell_type": "code",
   "execution_count": 46,
   "metadata": {},
   "outputs": [
    {
     "data": {
      "text/plain": [
       "[Text(0, 0.5, 'Number of Respondents'),\n",
       " Text(0.5, 1.0, 'Cell Phone Access by Location')]"
      ]
     },
     "execution_count": 46,
     "metadata": {},
     "output_type": "execute_result"
    },
    {
     "data": {
      "image/png": "[encoded data removed]",
      "text/plain": [
       "<Figure size 432x288 with 1 Axes>"
      ]
     },
     "metadata": {
      "needs_background": "light"
     },
     "output_type": "display_data"
    }
   ],
   "source": [
    "# cell phone access by location\n",
    "cpal = sns.countplot('cell_phone_access', hue='location_type', data=financial)\n",
    "cpal.set(ylabel = 'Number of Respondents',\n",
    "       title = 'Cell Phone Access by Location')\n",
    "\n",
    "## surprisingly, rural respondents have more access to cell phones than urban respondents"
   ]
  },
  {
   "cell_type": "code",
   "execution_count": 47,
   "metadata": {
    "colab": {
     "base_uri": "https://localhost:8080/",
     "height": 330
    },
    "colab_type": "code",
    "id": "nPziKLmca_Np",
    "outputId": "75aa1d86-229e-4979-9e03-74335993265d"
   },
   "outputs": [
    {
     "data": {
      "text/plain": [
       "[Text(0, 0.5, 'Number of Respondents'),\n",
       " Text(0.5, 1.0, 'Cell Phone Access by Gender')]"
      ]
     },
     "execution_count": 47,
     "metadata": {},
     "output_type": "execute_result"
    },
    {
     "data": {
      "image/png": "[encoded data removed]",
      "text/plain": [
       "<Figure size 432x288 with 1 Axes>"
      ]
     },
     "metadata": {
      "needs_background": "light"
     },
     "output_type": "display_data"
    }
   ],
   "source": [
    "# male vs female access to cell phones\n",
    "gcpa = sns.countplot('cell_phone_access', hue='respondent_gender', data=financial)\n",
    "gcpa.set(ylabel = 'Number of Respondents',\n",
    "       title = 'Cell Phone Access by Gender')\n",
    "\n",
    "## more females than males have access to cell phones"
   ]
  },
  {
   "cell_type": "code",
   "execution_count": 48,
   "metadata": {},
   "outputs": [
    {
     "data": {
      "text/plain": [
       "Text(0.5, 1.0, 'Distribution of education level per gender')"
      ]
     },
     "execution_count": 48,
     "metadata": {},
     "output_type": "execute_result"
    },
    {
     "data": {
      "image/png": "[encoded data removed]",
      "text/plain": [
       "<Figure size 720x720 with 1 Axes>"
      ]
     },
     "metadata": {
      "needs_background": "light"
     },
     "output_type": "display_data"
    }
   ],
   "source": [
    "# gender per education level\n",
    "gel = financial.groupby(['respondent_gender', 'education_level']).size().unstack().plot(kind='bar',\n",
    "                                                                                        stacked=True,\n",
    "                                                                                       rot=0,\n",
    "                                                                                       figsize=([10,10]))\n",
    "plt.title('Distribution of education level per gender')\n",
    "\n",
    "## more females than males have achieved primary education level. The same can be said for\n",
    "## those with no formal education. In all the other education levels, there does not seem \n",
    "## to be a significant difference between the two genders"
   ]
  },
  {
   "cell_type": "code",
   "execution_count": 49,
   "metadata": {},
   "outputs": [
    {
     "data": {
      "text/plain": [
       "Text(0.5, 1.0, 'Relationship with Head of Household per Gender')"
      ]
     },
     "execution_count": 49,
     "metadata": {},
     "output_type": "execute_result"
    },
    {
     "data": {
      "image/png": "[encoded data removed]",
      "text/plain": [
       "<Figure size 720x720 with 1 Axes>"
      ]
     },
     "metadata": {
      "needs_background": "light"
     },
     "output_type": "display_data"
    }
   ],
   "source": [
    "# gender per relationship with head of household\n",
    "grh = financial.groupby(['respondent_gender', 'rship_w_head']).size().unstack().plot(kind='bar',\n",
    "                                                                                        stacked=True,\n",
    "                                                                                       rot=0,\n",
    "                                                                                       figsize=([10,10]))\n",
    "plt.title('Relationship with Head of Household per Gender')\n",
    "\n",
    "## females greatly outnumber males when it comes to being a spouse. Males, however, report\n",
    "## more on being the Head of the household than females."
   ]
  },
  {
   "cell_type": "code",
   "execution_count": 50,
   "metadata": {
    "scrolled": true
   },
   "outputs": [
    {
     "data": {
      "text/plain": [
       "Text(0.5, 1.0, 'Job type  per gender')"
      ]
     },
     "execution_count": 50,
     "metadata": {},
     "output_type": "execute_result"
    },
    {
     "data": {
      "image/png": "[encoded data removed]",
      "text/plain": [
       "<Figure size 720x720 with 1 Axes>"
      ]
     },
     "metadata": {
      "needs_background": "light"
     },
     "output_type": "display_data"
    }
   ],
   "source": [
    "# job type per gender\n",
    "jtg = financial.groupby(['respondent_gender', 'job_type']).size().unstack().plot(kind='bar',\n",
    "                                                                                        stacked=True,\n",
    "                                                                                       rot=0,\n",
    "                                                                                       figsize=([10,10]))\n",
    "plt.title('Job type  per gender')\n",
    "\n",
    "## slightly more females than males are self employed, remittance dependent, government\n",
    "## dependent, informally employed, and have no income or other income. Males seem to \n",
    "## outnumber females when it comes to being formally employed, both privately and by\n",
    "## the government."
   ]
  },
  {
   "cell_type": "code",
   "execution_count": 51,
   "metadata": {},
   "outputs": [
    {
     "data": {
      "text/plain": [
       "Text(0.5, 1.0, 'Job Type by Education Level')"
      ]
     },
     "execution_count": 51,
     "metadata": {},
     "output_type": "execute_result"
    },
    {
     "data": {
      "image/png": "[encoded data removed]",
      "text/plain": [
       "<Figure size 720x720 with 1 Axes>"
      ]
     },
     "metadata": {
      "needs_background": "light"
     },
     "output_type": "display_data"
    }
   ],
   "source": [
    "# job type by education\n",
    "jte = financial.groupby(['education_level', 'job_type']).size().unstack().plot(kind='bar',\n",
    "                                                                                        stacked=True,\n",
    "                                                                                       rot=45,\n",
    "                                                                                       figsize=([10,10]))\n",
    "plt.title('Job Type by Education Level')\n",
    "\n",
    "## those with primary level have the highest number of jobs and majority are self employed\n",
    "## informally employed, and working in the Farming or Fishing sector. Tertiary education does\n",
    "## not seem to guarantee more jobs"
   ]
  },
  {
   "cell_type": "code",
   "execution_count": 52,
   "metadata": {
    "colab": {
     "base_uri": "https://localhost:8080/",
     "height": 420
    },
    "colab_type": "code",
    "id": "sU-trl8ea_Nz",
    "outputId": "40d32a93-f87d-4bae-efe7-9b2b69b3fda7"
   },
   "outputs": [
    {
     "data": {
      "text/html": [
       "<div>\n",
       "<style scoped>\n",
       "    .dataframe tbody tr th:only-of-type {\n",
       "        vertical-align: middle;\n",
       "    }\n",
       "\n",
       "    .dataframe tbody tr th {\n",
       "        vertical-align: top;\n",
       "    }\n",
       "\n",
       "    .dataframe thead th {\n",
       "        text-align: right;\n",
       "    }\n",
       "</style>\n",
       "<table border=\"1\" class=\"dataframe\">\n",
       "  <thead>\n",
       "    <tr style=\"text-align: right;\">\n",
       "      <th></th>\n",
       "      <th>year</th>\n",
       "      <th>household_size</th>\n",
       "      <th>respondent_age</th>\n",
       "    </tr>\n",
       "  </thead>\n",
       "  <tbody>\n",
       "    <tr>\n",
       "      <th>year</th>\n",
       "      <td>1.000000</td>\n",
       "      <td>-0.048981</td>\n",
       "      <td>-0.018250</td>\n",
       "    </tr>\n",
       "    <tr>\n",
       "      <th>household_size</th>\n",
       "      <td>-0.048981</td>\n",
       "      <td>1.000000</td>\n",
       "      <td>-0.117188</td>\n",
       "    </tr>\n",
       "    <tr>\n",
       "      <th>respondent_age</th>\n",
       "      <td>-0.018250</td>\n",
       "      <td>-0.117188</td>\n",
       "      <td>1.000000</td>\n",
       "    </tr>\n",
       "  </tbody>\n",
       "</table>\n",
       "</div>"
      ],
      "text/plain": [
       "                    year  household_size  respondent_age\n",
       "year            1.000000       -0.048981       -0.018250\n",
       "household_size -0.048981        1.000000       -0.117188\n",
       "respondent_age -0.018250       -0.117188        1.000000"
      ]
     },
     "execution_count": 52,
     "metadata": {},
     "output_type": "execute_result"
    },
    {
     "data": {
      "image/png": "[encoded data removed]",
      "text/plain": [
       "<Figure size 432x288 with 1 Axes>"
      ]
     },
     "metadata": {
      "needs_background": "light"
     },
     "output_type": "display_data"
    }
   ],
   "source": [
    "# what is the correlation between the numerical values in the dataset?\n",
    "plt.scatter(financial['respondent_age'], financial['household_size'])\n",
    "plt.xlabel(\"Respondent's Age\")\n",
    "plt.ylabel(\"Household Size\")\n",
    "plt.title(\"Relationship between Respondent Age and Household Size\")\n",
    "\n",
    "financial.corr()\n",
    "\n",
    "## there is weak negative correlation (-0.117) between household size and respondent age\n",
    "## i.e., as respondent age increases, household size decreases"
   ]
  },
  {
   "cell_type": "markdown",
   "metadata": {
    "colab_type": "text",
    "id": "Ro0c1Bn7a_N2"
   },
   "source": [
    "## <font color='blue'> 4.3 Multivariate Analysis </font>"
   ]
  },
  {
   "cell_type": "markdown",
   "metadata": {
    "colab_type": "text",
    "id": "3DligYe0a_N3"
   },
   "source": [
    "# <font color='green'> 5. Conclusion and Next Steps </font>"
   ]
  },
  {
   "cell_type": "markdown",
   "metadata": {
    "colab_type": "text",
    "id": "NPuU1ghZidyf"
   },
   "source": [
    "#### Conclusion"
   ]
  },
  {
   "cell_type": "markdown",
   "metadata": {},
   "source": [
    "In conclusion, we see that, despite the number of bank accounts increasing slightly over the years, truly, financial inclusion is still very low across these four East African countries.\n",
    "\n",
    "In my view, the dataset is very biased because most of the respondents are females, around 30 years of age, and/or living in rural areas. This makes it difficult to correctly and confidently determine whether it is those factors that affect whether an individual has a bank account or not.\n",
    "\n",
    "Working with this dataset has provided the following results:\n",
    "    * Gender: there were a lot more female respondents than male respondents. However, what was surprising was that more males than females had a bank account.\n",
    "    * Location: Rural respondents greatly outnumbered urban ones but there was no significant difference between the two when it came to having a bank account. \n",
    "    * Cell phone access: more respondents had access to cell phones, and yet it was not a guarantee that one would have a bank account.\n",
    "    * Household size: majority reported having a household size of 2 or less.\n",
    "    * Age: majority are of ages 30 and below.\n",
    "    * Relationship with head of household: most are Head of Household and, yet, most don't have bank accounts.\n",
    "    * Marital status: most are married/living together, and many do have a bank account but not enough to outnumber those who do not have one.\n",
    "    * Level of education: most have attained primary level of education. However, there is no significant difference between education level and having a bank account.\n",
    "    * Job type: most are either self employed, informally employed, or working in the Farming and Fishing sector. Many of them have bank accounts, but not enough to outnumber those who do not have."
   ]
  },
  {
   "cell_type": "markdown",
   "metadata": {},
   "source": [
    "#### Next steps"
   ]
  },
  {
   "cell_type": "markdown",
   "metadata": {},
   "source": [
    "While all variables need to be worked on to improve financial inclusion, I feel like a lot more focus needs to be on respondents from Uganda and Rwanda. The number of respondents who are urban, males, and older in age also needs to be improved to create a better and less biased dataset. "
   ]
  }
 ],
 "metadata": {
  "colab": {
   "name": "Week 2 Resubmit",
   "provenance": [],
   "toc_visible": true
  },
  "kernelspec": {
   "display_name": "Python 3",
   "language": "python",
   "name": "python3"
  },
  "language_info": {
   "codemirror_mode": {
    "name": "ipython",
    "version": 3
   },
   "file_extension": ".py",
   "mimetype": "text/x-python",
   "name": "python",
   "nbconvert_exporter": "python",
   "pygments_lexer": "ipython3",
   "version": "3.7.3"
  }
 },
 "nbformat": 4,
 "nbformat_minor": 1
}
